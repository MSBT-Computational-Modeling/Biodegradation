{
 "cells": [
  {
   "cell_type": "markdown",
   "metadata": {},
   "source": [
    "## Model Training"
   ]
  },
  {
   "cell_type": "markdown",
   "metadata": {},
   "source": [
    "Please ensure that you have python version greater or equal to 3.10 and less than or equal to 3.11. The newest version of Deepchem does not support python 3.12 yet."
   ]
  },
  {
   "cell_type": "code",
   "execution_count": 1,
   "metadata": {},
   "outputs": [],
   "source": [
    "# assert that python version is >=3.10 and <=3.11\n",
    "import sys\n",
    "assert sys.version_info >= (3, 10) and sys.version_info <= (3, 11) , \"Python version not supported. Please use version 3.10 or 3.11\""
   ]
  },
  {
   "cell_type": "markdown",
   "metadata": {},
   "source": [
    "Install the required packages"
   ]
  },
  {
   "cell_type": "code",
   "execution_count": 2,
   "metadata": {},
   "outputs": [
    {
     "name": "stdout",
     "output_type": "stream",
     "text": [
      "Requirement already satisfied: deepchem>=2.8.1.dev in /home/matcha/miniconda3/envs/py10/lib/python3.10/site-packages (from -r requirements.txt (line 1)) (2.8.1.dev20240607220322)\n",
      "Requirement already satisfied: tensorflow==2.15.0 in /home/matcha/miniconda3/envs/py10/lib/python3.10/site-packages (from -r requirements.txt (line 2)) (2.15.0)\n",
      "Requirement already satisfied: numpy<2.0.0 in /home/matcha/miniconda3/envs/py10/lib/python3.10/site-packages (from -r requirements.txt (line 3)) (1.26.4)\n",
      "Requirement already satisfied: absl-py>=1.0.0 in /home/matcha/miniconda3/envs/py10/lib/python3.10/site-packages (from tensorflow==2.15.0->-r requirements.txt (line 2)) (2.1.0)\n",
      "Requirement already satisfied: astunparse>=1.6.0 in /home/matcha/miniconda3/envs/py10/lib/python3.10/site-packages (from tensorflow==2.15.0->-r requirements.txt (line 2)) (1.6.3)\n",
      "Requirement already satisfied: flatbuffers>=23.5.26 in /home/matcha/miniconda3/envs/py10/lib/python3.10/site-packages (from tensorflow==2.15.0->-r requirements.txt (line 2)) (24.3.25)\n",
      "Requirement already satisfied: gast!=0.5.0,!=0.5.1,!=0.5.2,>=0.2.1 in /home/matcha/miniconda3/envs/py10/lib/python3.10/site-packages (from tensorflow==2.15.0->-r requirements.txt (line 2)) (0.5.4)\n",
      "Requirement already satisfied: google-pasta>=0.1.1 in /home/matcha/miniconda3/envs/py10/lib/python3.10/site-packages (from tensorflow==2.15.0->-r requirements.txt (line 2)) (0.2.0)\n",
      "Requirement already satisfied: h5py>=2.9.0 in /home/matcha/miniconda3/envs/py10/lib/python3.10/site-packages (from tensorflow==2.15.0->-r requirements.txt (line 2)) (3.11.0)\n",
      "Requirement already satisfied: libclang>=13.0.0 in /home/matcha/miniconda3/envs/py10/lib/python3.10/site-packages (from tensorflow==2.15.0->-r requirements.txt (line 2)) (18.1.1)\n",
      "Requirement already satisfied: ml-dtypes~=0.2.0 in /home/matcha/miniconda3/envs/py10/lib/python3.10/site-packages (from tensorflow==2.15.0->-r requirements.txt (line 2)) (0.2.0)\n",
      "Requirement already satisfied: opt-einsum>=2.3.2 in /home/matcha/miniconda3/envs/py10/lib/python3.10/site-packages (from tensorflow==2.15.0->-r requirements.txt (line 2)) (3.3.0)\n",
      "Requirement already satisfied: packaging in /home/matcha/miniconda3/envs/py10/lib/python3.10/site-packages (from tensorflow==2.15.0->-r requirements.txt (line 2)) (24.1)\n",
      "Requirement already satisfied: protobuf!=4.21.0,!=4.21.1,!=4.21.2,!=4.21.3,!=4.21.4,!=4.21.5,<5.0.0dev,>=3.20.3 in /home/matcha/miniconda3/envs/py10/lib/python3.10/site-packages (from tensorflow==2.15.0->-r requirements.txt (line 2)) (4.25.3)\n",
      "Requirement already satisfied: setuptools in /home/matcha/miniconda3/envs/py10/lib/python3.10/site-packages (from tensorflow==2.15.0->-r requirements.txt (line 2)) (69.5.1)\n",
      "Requirement already satisfied: six>=1.12.0 in /home/matcha/miniconda3/envs/py10/lib/python3.10/site-packages (from tensorflow==2.15.0->-r requirements.txt (line 2)) (1.16.0)\n",
      "Requirement already satisfied: termcolor>=1.1.0 in /home/matcha/miniconda3/envs/py10/lib/python3.10/site-packages (from tensorflow==2.15.0->-r requirements.txt (line 2)) (2.4.0)\n",
      "Requirement already satisfied: typing-extensions>=3.6.6 in /home/matcha/miniconda3/envs/py10/lib/python3.10/site-packages (from tensorflow==2.15.0->-r requirements.txt (line 2)) (4.12.2)\n",
      "Requirement already satisfied: wrapt<1.15,>=1.11.0 in /home/matcha/miniconda3/envs/py10/lib/python3.10/site-packages (from tensorflow==2.15.0->-r requirements.txt (line 2)) (1.14.1)\n",
      "Requirement already satisfied: tensorflow-io-gcs-filesystem>=0.23.1 in /home/matcha/miniconda3/envs/py10/lib/python3.10/site-packages (from tensorflow==2.15.0->-r requirements.txt (line 2)) (0.37.0)\n",
      "Requirement already satisfied: grpcio<2.0,>=1.24.3 in /home/matcha/miniconda3/envs/py10/lib/python3.10/site-packages (from tensorflow==2.15.0->-r requirements.txt (line 2)) (1.64.1)\n",
      "Requirement already satisfied: tensorboard<2.16,>=2.15 in /home/matcha/miniconda3/envs/py10/lib/python3.10/site-packages (from tensorflow==2.15.0->-r requirements.txt (line 2)) (2.15.2)\n",
      "Requirement already satisfied: tensorflow-estimator<2.16,>=2.15.0 in /home/matcha/miniconda3/envs/py10/lib/python3.10/site-packages (from tensorflow==2.15.0->-r requirements.txt (line 2)) (2.15.0)\n",
      "Requirement already satisfied: keras<2.16,>=2.15.0 in /home/matcha/miniconda3/envs/py10/lib/python3.10/site-packages (from tensorflow==2.15.0->-r requirements.txt (line 2)) (2.15.0)\n",
      "Requirement already satisfied: joblib in /home/matcha/miniconda3/envs/py10/lib/python3.10/site-packages (from deepchem>=2.8.1.dev->-r requirements.txt (line 1)) (1.4.2)\n",
      "Requirement already satisfied: pandas in /home/matcha/miniconda3/envs/py10/lib/python3.10/site-packages (from deepchem>=2.8.1.dev->-r requirements.txt (line 1)) (2.2.2)\n",
      "Requirement already satisfied: scikit-learn in /home/matcha/miniconda3/envs/py10/lib/python3.10/site-packages (from deepchem>=2.8.1.dev->-r requirements.txt (line 1)) (1.5.0)\n",
      "Requirement already satisfied: sympy in /home/matcha/miniconda3/envs/py10/lib/python3.10/site-packages (from deepchem>=2.8.1.dev->-r requirements.txt (line 1)) (1.12.1)\n",
      "Requirement already satisfied: scipy>=1.10.1 in /home/matcha/miniconda3/envs/py10/lib/python3.10/site-packages (from deepchem>=2.8.1.dev->-r requirements.txt (line 1)) (1.13.1)\n",
      "Requirement already satisfied: rdkit in /home/matcha/miniconda3/envs/py10/lib/python3.10/site-packages (from deepchem>=2.8.1.dev->-r requirements.txt (line 1)) (2023.9.6)\n",
      "Requirement already satisfied: wheel<1.0,>=0.23.0 in /home/matcha/miniconda3/envs/py10/lib/python3.10/site-packages (from astunparse>=1.6.0->tensorflow==2.15.0->-r requirements.txt (line 2)) (0.43.0)\n",
      "Requirement already satisfied: google-auth<3,>=1.6.3 in /home/matcha/miniconda3/envs/py10/lib/python3.10/site-packages (from tensorboard<2.16,>=2.15->tensorflow==2.15.0->-r requirements.txt (line 2)) (2.30.0)\n",
      "Requirement already satisfied: google-auth-oauthlib<2,>=0.5 in /home/matcha/miniconda3/envs/py10/lib/python3.10/site-packages (from tensorboard<2.16,>=2.15->tensorflow==2.15.0->-r requirements.txt (line 2)) (1.2.0)\n",
      "Requirement already satisfied: markdown>=2.6.8 in /home/matcha/miniconda3/envs/py10/lib/python3.10/site-packages (from tensorboard<2.16,>=2.15->tensorflow==2.15.0->-r requirements.txt (line 2)) (3.6)\n",
      "Requirement already satisfied: requests<3,>=2.21.0 in /home/matcha/miniconda3/envs/py10/lib/python3.10/site-packages (from tensorboard<2.16,>=2.15->tensorflow==2.15.0->-r requirements.txt (line 2)) (2.32.3)\n",
      "Requirement already satisfied: tensorboard-data-server<0.8.0,>=0.7.0 in /home/matcha/miniconda3/envs/py10/lib/python3.10/site-packages (from tensorboard<2.16,>=2.15->tensorflow==2.15.0->-r requirements.txt (line 2)) (0.7.2)\n",
      "Requirement already satisfied: werkzeug>=1.0.1 in /home/matcha/miniconda3/envs/py10/lib/python3.10/site-packages (from tensorboard<2.16,>=2.15->tensorflow==2.15.0->-r requirements.txt (line 2)) (3.0.3)\n",
      "Requirement already satisfied: python-dateutil>=2.8.2 in /home/matcha/miniconda3/envs/py10/lib/python3.10/site-packages (from pandas->deepchem>=2.8.1.dev->-r requirements.txt (line 1)) (2.9.0)\n",
      "Requirement already satisfied: pytz>=2020.1 in /home/matcha/miniconda3/envs/py10/lib/python3.10/site-packages (from pandas->deepchem>=2.8.1.dev->-r requirements.txt (line 1)) (2024.1)\n",
      "Requirement already satisfied: tzdata>=2022.7 in /home/matcha/miniconda3/envs/py10/lib/python3.10/site-packages (from pandas->deepchem>=2.8.1.dev->-r requirements.txt (line 1)) (2024.1)\n",
      "Requirement already satisfied: Pillow in /home/matcha/miniconda3/envs/py10/lib/python3.10/site-packages (from rdkit->deepchem>=2.8.1.dev->-r requirements.txt (line 1)) (10.3.0)\n",
      "Requirement already satisfied: threadpoolctl>=3.1.0 in /home/matcha/miniconda3/envs/py10/lib/python3.10/site-packages (from scikit-learn->deepchem>=2.8.1.dev->-r requirements.txt (line 1)) (3.5.0)\n",
      "Requirement already satisfied: mpmath<1.4.0,>=1.1.0 in /home/matcha/miniconda3/envs/py10/lib/python3.10/site-packages (from sympy->deepchem>=2.8.1.dev->-r requirements.txt (line 1)) (1.3.0)\n",
      "Requirement already satisfied: cachetools<6.0,>=2.0.0 in /home/matcha/miniconda3/envs/py10/lib/python3.10/site-packages (from google-auth<3,>=1.6.3->tensorboard<2.16,>=2.15->tensorflow==2.15.0->-r requirements.txt (line 2)) (5.3.3)\n",
      "Requirement already satisfied: pyasn1-modules>=0.2.1 in /home/matcha/miniconda3/envs/py10/lib/python3.10/site-packages (from google-auth<3,>=1.6.3->tensorboard<2.16,>=2.15->tensorflow==2.15.0->-r requirements.txt (line 2)) (0.4.0)\n",
      "Requirement already satisfied: rsa<5,>=3.1.4 in /home/matcha/miniconda3/envs/py10/lib/python3.10/site-packages (from google-auth<3,>=1.6.3->tensorboard<2.16,>=2.15->tensorflow==2.15.0->-r requirements.txt (line 2)) (4.9)\n",
      "Requirement already satisfied: requests-oauthlib>=0.7.0 in /home/matcha/miniconda3/envs/py10/lib/python3.10/site-packages (from google-auth-oauthlib<2,>=0.5->tensorboard<2.16,>=2.15->tensorflow==2.15.0->-r requirements.txt (line 2)) (2.0.0)\n",
      "Requirement already satisfied: charset-normalizer<4,>=2 in /home/matcha/miniconda3/envs/py10/lib/python3.10/site-packages (from requests<3,>=2.21.0->tensorboard<2.16,>=2.15->tensorflow==2.15.0->-r requirements.txt (line 2)) (3.3.2)\n",
      "Requirement already satisfied: idna<4,>=2.5 in /home/matcha/miniconda3/envs/py10/lib/python3.10/site-packages (from requests<3,>=2.21.0->tensorboard<2.16,>=2.15->tensorflow==2.15.0->-r requirements.txt (line 2)) (3.7)\n",
      "Requirement already satisfied: urllib3<3,>=1.21.1 in /home/matcha/miniconda3/envs/py10/lib/python3.10/site-packages (from requests<3,>=2.21.0->tensorboard<2.16,>=2.15->tensorflow==2.15.0->-r requirements.txt (line 2)) (2.2.1)\n",
      "Requirement already satisfied: certifi>=2017.4.17 in /home/matcha/miniconda3/envs/py10/lib/python3.10/site-packages (from requests<3,>=2.21.0->tensorboard<2.16,>=2.15->tensorflow==2.15.0->-r requirements.txt (line 2)) (2024.6.2)\n",
      "Requirement already satisfied: MarkupSafe>=2.1.1 in /home/matcha/miniconda3/envs/py10/lib/python3.10/site-packages (from werkzeug>=1.0.1->tensorboard<2.16,>=2.15->tensorflow==2.15.0->-r requirements.txt (line 2)) (2.1.5)\n",
      "Requirement already satisfied: pyasn1<0.7.0,>=0.4.6 in /home/matcha/miniconda3/envs/py10/lib/python3.10/site-packages (from pyasn1-modules>=0.2.1->google-auth<3,>=1.6.3->tensorboard<2.16,>=2.15->tensorflow==2.15.0->-r requirements.txt (line 2)) (0.6.0)\n",
      "Requirement already satisfied: oauthlib>=3.0.0 in /home/matcha/miniconda3/envs/py10/lib/python3.10/site-packages (from requests-oauthlib>=0.7.0->google-auth-oauthlib<2,>=0.5->tensorboard<2.16,>=2.15->tensorflow==2.15.0->-r requirements.txt (line 2)) (3.2.2)\n"
     ]
    }
   ],
   "source": [
    "!pip install -r requirements.txt"
   ]
  },
  {
   "cell_type": "markdown",
   "metadata": {},
   "source": [
    "## Import "
   ]
  },
  {
   "cell_type": "code",
   "execution_count": 3,
   "metadata": {},
   "outputs": [
    {
     "name": "stderr",
     "output_type": "stream",
     "text": [
      "Skipped loading some Pytorch utilities, missing a dependency. No module named 'torch'\n",
      "No normalization for SPS. Feature removed!\n",
      "No normalization for AvgIpc. Feature removed!\n"
     ]
    },
    {
     "name": "stdout",
     "output_type": "stream",
     "text": [
      "This module requires PyTorch to be installed.\n"
     ]
    },
    {
     "name": "stderr",
     "output_type": "stream",
     "text": [
      "2024-06-16 20:04:11.561824: I tensorflow/core/util/port.cc:113] oneDNN custom operations are on. You may see slightly different numerical results due to floating-point round-off errors from different computation orders. To turn them off, set the environment variable `TF_ENABLE_ONEDNN_OPTS=0`.\n",
      "2024-06-16 20:04:11.582373: E external/local_xla/xla/stream_executor/cuda/cuda_dnn.cc:9261] Unable to register cuDNN factory: Attempting to register factory for plugin cuDNN when one has already been registered\n",
      "2024-06-16 20:04:11.582393: E external/local_xla/xla/stream_executor/cuda/cuda_fft.cc:607] Unable to register cuFFT factory: Attempting to register factory for plugin cuFFT when one has already been registered\n",
      "2024-06-16 20:04:11.582887: E external/local_xla/xla/stream_executor/cuda/cuda_blas.cc:1515] Unable to register cuBLAS factory: Attempting to register factory for plugin cuBLAS when one has already been registered\n",
      "2024-06-16 20:04:11.587092: I tensorflow/core/platform/cpu_feature_guard.cc:182] This TensorFlow binary is optimized to use available CPU instructions in performance-critical operations.\n",
      "To enable the following instructions: AVX2 AVX_VNNI FMA, in other operations, rebuild TensorFlow with the appropriate compiler flags.\n",
      "2024-06-16 20:04:12.231291: W tensorflow/compiler/tf2tensorrt/utils/py_utils.cc:38] TF-TRT Warning: Could not find TensorRT\n"
     ]
    },
    {
     "name": "stdout",
     "output_type": "stream",
     "text": [
      "WARNING:tensorflow:From /home/matcha/miniconda3/envs/py10/lib/python3.10/site-packages/tensorflow/python/util/deprecation.py:588: calling function (from tensorflow.python.eager.polymorphic_function.polymorphic_function) with experimental_relax_shapes is deprecated and will be removed in a future version.\n",
      "Instructions for updating:\n",
      "experimental_relax_shapes is deprecated, use reduce_retracing instead\n"
     ]
    },
    {
     "name": "stderr",
     "output_type": "stream",
     "text": [
      "Skipped loading some PyTorch models, missing a dependency. No module named 'torch'\n",
      "No module named 'torch'\n",
      "Skipped loading modules with pytorch-geometric dependency, missing a dependency. No module named 'torch'\n",
      "Skipped loading modules with pytorch-lightning dependency, missing a dependency. No module named 'torch'\n",
      "Skipped loading some Jax models, missing a dependency. No module named 'jax'\n"
     ]
    },
    {
     "data": {
      "text/plain": [
       "'2.8.1.dev'"
      ]
     },
     "execution_count": 3,
     "metadata": {},
     "output_type": "execute_result"
    }
   ],
   "source": [
    "import deepchem as dc # requires python3<=3.11, numpy<2.0.0, tensorflow==2.15.0\n",
    "dc.__version__"
   ]
  },
  {
   "cell_type": "markdown",
   "metadata": {},
   "source": [
    "You can build the training dataset yourself, or you can load the pre-built version from file. If you would like to load the pre-built dataset, feel free to ignore the next few cells."
   ]
  },
  {
   "cell_type": "code",
   "execution_count": 4,
   "metadata": {},
   "outputs": [],
   "source": [
    "dataset_file = 'train_set_no_oversampling.csv'\n",
    "task = ['Biodegradation']\n",
    "featurizer_func = dc.feat.ConvMolFeaturizer()\n",
    "\n",
    "loader = dc.data.CSVLoader(tasks=task, feature_field='smiles', featurizer=featurizer_func)\n",
    "dataset = loader.create_dataset(dataset_file)"
   ]
  },
  {
   "cell_type": "code",
   "execution_count": 5,
   "metadata": {},
   "outputs": [
    {
     "data": {
      "text/html": [
       "<div>\n",
       "<style scoped>\n",
       "    .dataframe tbody tr th:only-of-type {\n",
       "        vertical-align: middle;\n",
       "    }\n",
       "\n",
       "    .dataframe tbody tr th {\n",
       "        vertical-align: top;\n",
       "    }\n",
       "\n",
       "    .dataframe thead th {\n",
       "        text-align: right;\n",
       "    }\n",
       "</style>\n",
       "<table border=\"1\" class=\"dataframe\">\n",
       "  <thead>\n",
       "    <tr style=\"text-align: right;\">\n",
       "      <th></th>\n",
       "      <th>X</th>\n",
       "      <th>y</th>\n",
       "      <th>w</th>\n",
       "      <th>ids</th>\n",
       "    </tr>\n",
       "  </thead>\n",
       "  <tbody>\n",
       "    <tr>\n",
       "      <th>0</th>\n",
       "      <td>&lt;deepchem.feat.mol_graphs.ConvMol object at 0x...</td>\n",
       "      <td>1.0</td>\n",
       "      <td>1.0</td>\n",
       "      <td>O=Cc1ccco1</td>\n",
       "    </tr>\n",
       "    <tr>\n",
       "      <th>1</th>\n",
       "      <td>&lt;deepchem.feat.mol_graphs.ConvMol object at 0x...</td>\n",
       "      <td>1.0</td>\n",
       "      <td>1.0</td>\n",
       "      <td>CCCCCCCCCCN(C)C</td>\n",
       "    </tr>\n",
       "    <tr>\n",
       "      <th>2</th>\n",
       "      <td>&lt;deepchem.feat.mol_graphs.ConvMol object at 0x...</td>\n",
       "      <td>1.0</td>\n",
       "      <td>1.0</td>\n",
       "      <td>CCCCOC(=O)COC(=O)c1ccccc1C(=O)OCCCC</td>\n",
       "    </tr>\n",
       "    <tr>\n",
       "      <th>3</th>\n",
       "      <td>&lt;deepchem.feat.mol_graphs.ConvMol object at 0x...</td>\n",
       "      <td>0.0</td>\n",
       "      <td>1.0</td>\n",
       "      <td>C=CCOC1=NS(=O)(=O)c2ccccc21</td>\n",
       "    </tr>\n",
       "    <tr>\n",
       "      <th>4</th>\n",
       "      <td>&lt;deepchem.feat.mol_graphs.ConvMol object at 0x...</td>\n",
       "      <td>0.0</td>\n",
       "      <td>1.0</td>\n",
       "      <td>ClC1CCCCC1</td>\n",
       "    </tr>\n",
       "  </tbody>\n",
       "</table>\n",
       "</div>"
      ],
      "text/plain": [
       "                                                   X    y    w  \\\n",
       "0  <deepchem.feat.mol_graphs.ConvMol object at 0x...  1.0  1.0   \n",
       "1  <deepchem.feat.mol_graphs.ConvMol object at 0x...  1.0  1.0   \n",
       "2  <deepchem.feat.mol_graphs.ConvMol object at 0x...  1.0  1.0   \n",
       "3  <deepchem.feat.mol_graphs.ConvMol object at 0x...  0.0  1.0   \n",
       "4  <deepchem.feat.mol_graphs.ConvMol object at 0x...  0.0  1.0   \n",
       "\n",
       "                                   ids  \n",
       "0                           O=Cc1ccco1  \n",
       "1                      CCCCCCCCCCN(C)C  \n",
       "2  CCCCOC(=O)COC(=O)c1ccccc1C(=O)OCCCC  \n",
       "3          C=CCOC1=NS(=O)(=O)c2ccccc21  \n",
       "4                           ClC1CCCCC1  "
      ]
     },
     "execution_count": 5,
     "metadata": {},
     "output_type": "execute_result"
    }
   ],
   "source": [
    "dataset.to_dataframe().head()"
   ]
  },
  {
   "cell_type": "markdown",
   "metadata": {},
   "source": [
    "Balance the dataset using Deepchem `BalancingTransformer`."
   ]
  },
  {
   "cell_type": "code",
   "execution_count": 6,
   "metadata": {},
   "outputs": [],
   "source": [
    "transformer = dc.trans.BalancingTransformer(dataset=dataset)\n",
    "balanced_dataset = transformer.transform(dataset)"
   ]
  },
  {
   "cell_type": "markdown",
   "metadata": {},
   "source": [
    "Save to disk"
   ]
  },
  {
   "cell_type": "code",
   "execution_count": 7,
   "metadata": {},
   "outputs": [],
   "source": [
    "dc.utils.save_to_disk(balanced_dataset, 'balanced_dataset.joblib')"
   ]
  },
  {
   "cell_type": "markdown",
   "metadata": {},
   "source": [
    "Alternatively, you can just run this to load the pre-built dataset from file."
   ]
  },
  {
   "cell_type": "code",
   "execution_count": 8,
   "metadata": {},
   "outputs": [],
   "source": [
    "balanced_dataset = dc.utils.load_from_disk('balanced_dataset.joblib')"
   ]
  },
  {
   "cell_type": "markdown",
   "metadata": {},
   "source": [
    "Use the GraphConvModel from Deepchem with 0.2 dropout. Note that all checkpoints will be saved in the models directory."
   ]
  },
  {
   "cell_type": "code",
   "execution_count": 47,
   "metadata": {},
   "outputs": [],
   "source": [
    "model = dc.models.GraphConvModel(n_tasks=1, mode='classification', dropout=0.0, model_dir='models',)"
   ]
  },
  {
   "cell_type": "code",
   "execution_count": 48,
   "metadata": {},
   "outputs": [
    {
     "data": {
      "text/plain": [
       "0.026144683361053467"
      ]
     },
     "execution_count": 48,
     "metadata": {},
     "output_type": "execute_result"
    }
   ],
   "source": [
    "model.fit(balanced_dataset, nb_epoch=60)"
   ]
  },
  {
   "cell_type": "markdown",
   "metadata": {},
   "source": [
    "Run the following cell to build the test set, or skip it and load the pre-built test set directly from file."
   ]
  },
  {
   "cell_type": "code",
   "execution_count": 30,
   "metadata": {},
   "outputs": [],
   "source": [
    "test_set = 'test_set.csv'\n",
    "featurizer_func = dc.feat.ConvMolFeaturizer()\n",
    "task = ['Biodegradation']\n",
    "\n",
    "loader = dc.data.CSVLoader(feature_field='smiles', featurizer=featurizer_func, tasks=task)\n",
    "test_dataset = loader.create_dataset(test_set)\n",
    "\n",
    "dc.utils.save_to_disk(test_dataset, 'test_dataset.joblib')"
   ]
  },
  {
   "cell_type": "markdown",
   "metadata": {},
   "source": [
    "Load the test dataset"
   ]
  },
  {
   "cell_type": "code",
   "execution_count": 12,
   "metadata": {},
   "outputs": [],
   "source": [
    "test_dataset = dc.utils.load_from_disk('test_dataset.joblib')"
   ]
  },
  {
   "cell_type": "markdown",
   "metadata": {},
   "source": [
    "Evaluate the model on the test set."
   ]
  },
  {
   "cell_type": "code",
   "execution_count": 49,
   "metadata": {},
   "outputs": [
    {
     "name": "stdout",
     "output_type": "stream",
     "text": [
      "WARNING:tensorflow:5 out of the last 13 calls to <function KerasModel._compute_model at 0x7fed60438e50> triggered tf.function retracing. Tracing is expensive and the excessive number of tracings could be due to (1) creating @tf.function repeatedly in a loop, (2) passing tensors with different shapes, (3) passing Python objects instead of tensors. For (1), please define your @tf.function outside of the loop. For (2), @tf.function has reduce_retracing=True option that can avoid unnecessary retracing. For (3), please refer to https://www.tensorflow.org/guide/function#controlling_retracing and https://www.tensorflow.org/api_docs/python/tf/function for  more details.\n"
     ]
    },
    {
     "data": {
      "text/plain": [
       "{'roc_auc_score': 0.9097569164652162,\n",
       " 'matthews_corrcoef': 0.6718051078764143,\n",
       " 'recall_score': 0.8356164383561644}"
      ]
     },
     "execution_count": 49,
     "metadata": {},
     "output_type": "execute_result"
    }
   ],
   "source": [
    "model.evaluate(test_dataset, [dc.metrics.Metric(dc.metrics.roc_auc_score), dc.metrics.Metric(dc.metrics.matthews_corrcoef), dc.metrics.Metric(dc.metrics.recall_score) ])"
   ]
  },
  {
   "cell_type": "markdown",
   "metadata": {},
   "source": [
    "Predict using new smiles strings."
   ]
  },
  {
   "cell_type": "code",
   "execution_count": 14,
   "metadata": {},
   "outputs": [
    {
     "data": {
      "text/plain": [
       "{'Biodegradable Probability': 0.0639822,\n",
       " 'Not biodegradable Probability': 0.93601775}"
      ]
     },
     "execution_count": 14,
     "metadata": {},
     "output_type": "execute_result"
    }
   ],
   "source": [
    "def predict_smiles(smiles: str):\n",
    "    featurizer_func = dc.feat.ConvMolFeaturizer()\n",
    "    featured_smiles = featurizer_func.featurize([smiles])\n",
    "    result = model.predict_on_batch(featured_smiles)[0][0]\n",
    "    \n",
    "    return {\n",
    "        'Biodegradable Probability': result[1],\n",
    "        'Not biodegradable Probability': result[0]\n",
    "    }\n",
    "\n",
    "\n",
    "predict_smiles('OCC(F)(F)C(F)(F)C(F)(F)C(F)(F)C(F)(F)C(F)F')"
   ]
  },
  {
   "cell_type": "code",
   "execution_count": 54,
   "metadata": {},
   "outputs": [],
   "source": [
    "import numpy as np\n",
    "\n",
    "# load csv file\n",
    "import pandas as pd\n",
    "df = pd.read_csv('test_set.csv')\n",
    "\n",
    "# get the smiles column\n",
    "smiles = df['smiles']\n",
    "biodegration = df['Biodegradation']"
   ]
  },
  {
   "cell_type": "code",
   "execution_count": 16,
   "metadata": {},
   "outputs": [
    {
     "data": {
      "text/plain": [
       "0                      CCCCCCCCCCCCCCO\n",
       "1                    O=C(O)/C=C/C(=O)O\n",
       "2                CC(C)COc1ccc2ccccc2c1\n",
       "3                            OCc1cncs1\n",
       "4                   C=C(C)C(=O)OCC(C)C\n",
       "                    ...               \n",
       "554                     COc1ccc(OC)cc1\n",
       "555    CCCCCCCCCCCCCCC(CO)CCCCCCCCCCCC\n",
       "556           Nc1ccc2[nH]c(=O)[nH]c2c1\n",
       "557          CC(C)Nc1ccc(Nc2ccccc2)cc1\n",
       "558          COc1c2occc2cc2ccc(=O)oc12\n",
       "Name: smiles, Length: 559, dtype: object"
      ]
     },
     "execution_count": 16,
     "metadata": {},
     "output_type": "execute_result"
    }
   ],
   "source": [
    "smiles"
   ]
  },
  {
   "cell_type": "code",
   "execution_count": 55,
   "metadata": {},
   "outputs": [
    {
     "data": {
      "text/plain": [
       "(0.909750201450443, 0.6718051078764143, 0.8356164383561644)"
      ]
     },
     "execution_count": 55,
     "metadata": {},
     "output_type": "execute_result"
    }
   ],
   "source": [
    "from sklearn.metrics import roc_auc_score, matthews_corrcoef, recall_score\n",
    "\n",
    "y_true = biodegration\n",
    "y_pred = []\n",
    "\n",
    "for smile in smiles:\n",
    "    result = predict_smiles(smile)\n",
    "    y_pred.append(result['Biodegradable Probability'])\n",
    "    \n",
    "roc_auc_score(y_true, y_pred), matthews_corrcoef(y_true, np.round(y_pred)), recall_score(y_true, np.round(y_pred))\n",
    "\n"
   ]
  },
  {
   "cell_type": "code",
   "execution_count": 56,
   "metadata": {},
   "outputs": [
    {
     "name": "stdout",
     "output_type": "stream",
     "text": [
      "Requirement already satisfied: seaborn in /home/matcha/miniconda3/envs/py10/lib/python3.10/site-packages (0.13.2)\n",
      "Requirement already satisfied: matplotlib in /home/matcha/miniconda3/envs/py10/lib/python3.10/site-packages (3.9.0)\n",
      "Requirement already satisfied: numpy!=1.24.0,>=1.20 in /home/matcha/miniconda3/envs/py10/lib/python3.10/site-packages (from seaborn) (1.26.4)\n",
      "Requirement already satisfied: pandas>=1.2 in /home/matcha/miniconda3/envs/py10/lib/python3.10/site-packages (from seaborn) (2.2.2)\n",
      "Requirement already satisfied: contourpy>=1.0.1 in /home/matcha/miniconda3/envs/py10/lib/python3.10/site-packages (from matplotlib) (1.2.1)\n",
      "Requirement already satisfied: cycler>=0.10 in /home/matcha/miniconda3/envs/py10/lib/python3.10/site-packages (from matplotlib) (0.12.1)\n",
      "Requirement already satisfied: fonttools>=4.22.0 in /home/matcha/miniconda3/envs/py10/lib/python3.10/site-packages (from matplotlib) (4.53.0)\n",
      "Requirement already satisfied: kiwisolver>=1.3.1 in /home/matcha/miniconda3/envs/py10/lib/python3.10/site-packages (from matplotlib) (1.4.5)\n",
      "Requirement already satisfied: packaging>=20.0 in /home/matcha/miniconda3/envs/py10/lib/python3.10/site-packages (from matplotlib) (24.1)\n",
      "Requirement already satisfied: pillow>=8 in /home/matcha/miniconda3/envs/py10/lib/python3.10/site-packages (from matplotlib) (10.3.0)\n",
      "Requirement already satisfied: pyparsing>=2.3.1 in /home/matcha/miniconda3/envs/py10/lib/python3.10/site-packages (from matplotlib) (3.1.2)\n",
      "Requirement already satisfied: python-dateutil>=2.7 in /home/matcha/miniconda3/envs/py10/lib/python3.10/site-packages (from matplotlib) (2.9.0)\n",
      "Requirement already satisfied: pytz>=2020.1 in /home/matcha/miniconda3/envs/py10/lib/python3.10/site-packages (from pandas>=1.2->seaborn) (2024.1)\n",
      "Requirement already satisfied: tzdata>=2022.7 in /home/matcha/miniconda3/envs/py10/lib/python3.10/site-packages (from pandas>=1.2->seaborn) (2024.1)\n",
      "Requirement already satisfied: six>=1.5 in /home/matcha/miniconda3/envs/py10/lib/python3.10/site-packages (from python-dateutil>=2.7->matplotlib) (1.16.0)\n"
     ]
    }
   ],
   "source": [
    "!pip install seaborn matplotlib"
   ]
  },
  {
   "cell_type": "code",
   "execution_count": 59,
   "metadata": {},
   "outputs": [
    {
     "data": {
      "text/plain": [
       "<Axes: >"
      ]
     },
     "execution_count": 59,
     "metadata": {},
     "output_type": "execute_result"
    },
    {
     "data": {
      "image/png": "[encoded data removed]",
      "text/plain": [
       "<Figure size 640x480 with 2 Axes>"
      ]
     },
     "metadata": {},
     "output_type": "display_data"
    }
   ],
   "source": [
    "# confusion matrix\n",
    "from sklearn.metrics import confusion_matrix\n",
    "import seaborn as sns\n",
    "\n",
    "cm = confusion_matrix(y_true, np.round(y_pred))\n",
    "sns.heatmap(cm, annot=True, fmt='d')"
   ]
  },
  {
   "cell_type": "code",
   "execution_count": null,
   "metadata": {},
   "outputs": [],
   "source": []
  }
 ],
 "metadata": {
  "kernelspec": {
   "display_name": "venv",
   "language": "python",
   "name": "python3"
  },
  "language_info": {
   "codemirror_mode": {
    "name": "ipython",
    "version": 3
   },
   "file_extension": ".py",
   "mimetype": "text/x-python",
   "name": "python",
   "nbconvert_exporter": "python",
   "pygments_lexer": "ipython3",
   "version": "3.10.14"
  }
 },
 "nbformat": 4,
 "nbformat_minor": 2
}
