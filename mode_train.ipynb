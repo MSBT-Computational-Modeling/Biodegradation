{
 "cells": [
  {
   "cell_type": "markdown",
   "metadata": {},
   "source": [
    "## Model Training"
   ]
  },
  {
   "cell_type": "markdown",
   "metadata": {},
   "source": [
    "Please ensure that you have python version greater or equal to 3.10 and less than or equal to 3.11. The newest version of Deepchem does not support python 3.12 yet."
   ]
  },
  {
   "cell_type": "code",
   "execution_count": 1,
   "metadata": {},
   "outputs": [],
   "source": [
    "# assert that python version is >=3.10 and <=3.11\n",
    "import sys\n",
    "assert sys.version_info >= (3, 10) and sys.version_info <= (3, 11) , \"Python version not supported. Please use version 3.10 or 3.11\""
   ]
  },
  {
   "cell_type": "markdown",
   "metadata": {},
   "source": [
    "Install the required packages"
   ]
  },
  {
   "cell_type": "code",
   "execution_count": 2,
   "metadata": {},
   "outputs": [
    {
     "name": "stdout",
     "output_type": "stream",
     "text": [
      "Requirement already satisfied: deepchem>=2.8.1.dev in ./venv/lib/python3.10/site-packages (from -r requirements.txt (line 1)) (2.8.1.dev20240607220322)\n",
      "Requirement already satisfied: tensorflow==2.15.0 in ./venv/lib/python3.10/site-packages (from -r requirements.txt (line 2)) (2.15.0)\n",
      "Requirement already satisfied: numpy<2.0.0 in ./venv/lib/python3.10/site-packages (from -r requirements.txt (line 3)) (1.26.4)\n",
      "Requirement already satisfied: seaborn in ./venv/lib/python3.10/site-packages (from -r requirements.txt (line 4)) (0.13.2)\n",
      "Requirement already satisfied: tensorflow-io-gcs-filesystem>=0.23.1 in ./venv/lib/python3.10/site-packages (from tensorflow==2.15.0->-r requirements.txt (line 2)) (0.37.0)\n",
      "Requirement already satisfied: google-pasta>=0.1.1 in ./venv/lib/python3.10/site-packages (from tensorflow==2.15.0->-r requirements.txt (line 2)) (0.2.0)\n",
      "Requirement already satisfied: setuptools in ./venv/lib/python3.10/site-packages (from tensorflow==2.15.0->-r requirements.txt (line 2)) (65.5.0)\n",
      "Requirement already satisfied: termcolor>=1.1.0 in ./venv/lib/python3.10/site-packages (from tensorflow==2.15.0->-r requirements.txt (line 2)) (2.4.0)\n",
      "Requirement already satisfied: flatbuffers>=23.5.26 in ./venv/lib/python3.10/site-packages (from tensorflow==2.15.0->-r requirements.txt (line 2)) (24.3.25)\n",
      "Requirement already satisfied: h5py>=2.9.0 in ./venv/lib/python3.10/site-packages (from tensorflow==2.15.0->-r requirements.txt (line 2)) (3.11.0)\n",
      "Requirement already satisfied: tensorboard<2.16,>=2.15 in ./venv/lib/python3.10/site-packages (from tensorflow==2.15.0->-r requirements.txt (line 2)) (2.15.2)\n",
      "Requirement already satisfied: ml-dtypes~=0.2.0 in ./venv/lib/python3.10/site-packages (from tensorflow==2.15.0->-r requirements.txt (line 2)) (0.2.0)\n",
      "Requirement already satisfied: gast!=0.5.0,!=0.5.1,!=0.5.2,>=0.2.1 in ./venv/lib/python3.10/site-packages (from tensorflow==2.15.0->-r requirements.txt (line 2)) (0.5.4)\n",
      "Requirement already satisfied: typing-extensions>=3.6.6 in ./venv/lib/python3.10/site-packages (from tensorflow==2.15.0->-r requirements.txt (line 2)) (4.12.2)\n",
      "Requirement already satisfied: protobuf!=4.21.0,!=4.21.1,!=4.21.2,!=4.21.3,!=4.21.4,!=4.21.5,<5.0.0dev,>=3.20.3 in ./venv/lib/python3.10/site-packages (from tensorflow==2.15.0->-r requirements.txt (line 2)) (4.25.3)\n",
      "Requirement already satisfied: absl-py>=1.0.0 in ./venv/lib/python3.10/site-packages (from tensorflow==2.15.0->-r requirements.txt (line 2)) (2.1.0)\n",
      "Requirement already satisfied: six>=1.12.0 in ./venv/lib/python3.10/site-packages (from tensorflow==2.15.0->-r requirements.txt (line 2)) (1.16.0)\n",
      "Requirement already satisfied: libclang>=13.0.0 in ./venv/lib/python3.10/site-packages (from tensorflow==2.15.0->-r requirements.txt (line 2)) (18.1.1)\n",
      "Requirement already satisfied: packaging in ./venv/lib/python3.10/site-packages (from tensorflow==2.15.0->-r requirements.txt (line 2)) (24.1)\n",
      "Requirement already satisfied: grpcio<2.0,>=1.24.3 in ./venv/lib/python3.10/site-packages (from tensorflow==2.15.0->-r requirements.txt (line 2)) (1.64.1)\n",
      "Requirement already satisfied: tensorflow-estimator<2.16,>=2.15.0 in ./venv/lib/python3.10/site-packages (from tensorflow==2.15.0->-r requirements.txt (line 2)) (2.15.0)\n",
      "Requirement already satisfied: opt-einsum>=2.3.2 in ./venv/lib/python3.10/site-packages (from tensorflow==2.15.0->-r requirements.txt (line 2)) (3.3.0)\n",
      "Requirement already satisfied: keras<2.16,>=2.15.0 in ./venv/lib/python3.10/site-packages (from tensorflow==2.15.0->-r requirements.txt (line 2)) (2.15.0)\n",
      "Requirement already satisfied: astunparse>=1.6.0 in ./venv/lib/python3.10/site-packages (from tensorflow==2.15.0->-r requirements.txt (line 2)) (1.6.3)\n",
      "Requirement already satisfied: wrapt<1.15,>=1.11.0 in ./venv/lib/python3.10/site-packages (from tensorflow==2.15.0->-r requirements.txt (line 2)) (1.14.1)\n",
      "Requirement already satisfied: joblib in ./venv/lib/python3.10/site-packages (from deepchem>=2.8.1.dev->-r requirements.txt (line 1)) (1.4.2)\n",
      "Requirement already satisfied: scikit-learn in ./venv/lib/python3.10/site-packages (from deepchem>=2.8.1.dev->-r requirements.txt (line 1)) (1.5.0)\n",
      "Requirement already satisfied: rdkit in ./venv/lib/python3.10/site-packages (from deepchem>=2.8.1.dev->-r requirements.txt (line 1)) (2023.9.6)\n",
      "Requirement already satisfied: scipy>=1.10.1 in ./venv/lib/python3.10/site-packages (from deepchem>=2.8.1.dev->-r requirements.txt (line 1)) (1.13.1)\n",
      "Requirement already satisfied: sympy in ./venv/lib/python3.10/site-packages (from deepchem>=2.8.1.dev->-r requirements.txt (line 1)) (1.12.1)\n",
      "Requirement already satisfied: pandas in ./venv/lib/python3.10/site-packages (from deepchem>=2.8.1.dev->-r requirements.txt (line 1)) (2.2.2)\n",
      "Requirement already satisfied: matplotlib!=3.6.1,>=3.4 in ./venv/lib/python3.10/site-packages (from seaborn->-r requirements.txt (line 4)) (3.9.0)\n",
      "Requirement already satisfied: wheel<1.0,>=0.23.0 in ./venv/lib/python3.10/site-packages (from astunparse>=1.6.0->tensorflow==2.15.0->-r requirements.txt (line 2)) (0.43.0)\n",
      "Requirement already satisfied: cycler>=0.10 in ./venv/lib/python3.10/site-packages (from matplotlib!=3.6.1,>=3.4->seaborn->-r requirements.txt (line 4)) (0.12.1)\n",
      "Requirement already satisfied: pillow>=8 in ./venv/lib/python3.10/site-packages (from matplotlib!=3.6.1,>=3.4->seaborn->-r requirements.txt (line 4)) (10.3.0)\n",
      "Requirement already satisfied: contourpy>=1.0.1 in ./venv/lib/python3.10/site-packages (from matplotlib!=3.6.1,>=3.4->seaborn->-r requirements.txt (line 4)) (1.2.1)\n",
      "Requirement already satisfied: pyparsing>=2.3.1 in ./venv/lib/python3.10/site-packages (from matplotlib!=3.6.1,>=3.4->seaborn->-r requirements.txt (line 4)) (3.1.2)\n",
      "Requirement already satisfied: fonttools>=4.22.0 in ./venv/lib/python3.10/site-packages (from matplotlib!=3.6.1,>=3.4->seaborn->-r requirements.txt (line 4)) (4.53.0)\n",
      "Requirement already satisfied: kiwisolver>=1.3.1 in ./venv/lib/python3.10/site-packages (from matplotlib!=3.6.1,>=3.4->seaborn->-r requirements.txt (line 4)) (1.4.5)\n",
      "Requirement already satisfied: python-dateutil>=2.7 in ./venv/lib/python3.10/site-packages (from matplotlib!=3.6.1,>=3.4->seaborn->-r requirements.txt (line 4)) (2.9.0.post0)\n",
      "Requirement already satisfied: pytz>=2020.1 in ./venv/lib/python3.10/site-packages (from pandas->deepchem>=2.8.1.dev->-r requirements.txt (line 1)) (2024.1)\n",
      "Requirement already satisfied: tzdata>=2022.7 in ./venv/lib/python3.10/site-packages (from pandas->deepchem>=2.8.1.dev->-r requirements.txt (line 1)) (2024.1)\n",
      "Requirement already satisfied: requests<3,>=2.21.0 in ./venv/lib/python3.10/site-packages (from tensorboard<2.16,>=2.15->tensorflow==2.15.0->-r requirements.txt (line 2)) (2.32.3)\n",
      "Requirement already satisfied: markdown>=2.6.8 in ./venv/lib/python3.10/site-packages (from tensorboard<2.16,>=2.15->tensorflow==2.15.0->-r requirements.txt (line 2)) (3.6)\n",
      "Requirement already satisfied: tensorboard-data-server<0.8.0,>=0.7.0 in ./venv/lib/python3.10/site-packages (from tensorboard<2.16,>=2.15->tensorflow==2.15.0->-r requirements.txt (line 2)) (0.7.2)\n",
      "Requirement already satisfied: werkzeug>=1.0.1 in ./venv/lib/python3.10/site-packages (from tensorboard<2.16,>=2.15->tensorflow==2.15.0->-r requirements.txt (line 2)) (3.0.3)\n",
      "Requirement already satisfied: google-auth-oauthlib<2,>=0.5 in ./venv/lib/python3.10/site-packages (from tensorboard<2.16,>=2.15->tensorflow==2.15.0->-r requirements.txt (line 2)) (1.2.0)\n",
      "Requirement already satisfied: google-auth<3,>=1.6.3 in ./venv/lib/python3.10/site-packages (from tensorboard<2.16,>=2.15->tensorflow==2.15.0->-r requirements.txt (line 2)) (2.30.0)\n",
      "Requirement already satisfied: threadpoolctl>=3.1.0 in ./venv/lib/python3.10/site-packages (from scikit-learn->deepchem>=2.8.1.dev->-r requirements.txt (line 1)) (3.5.0)\n",
      "Requirement already satisfied: mpmath<1.4.0,>=1.1.0 in ./venv/lib/python3.10/site-packages (from sympy->deepchem>=2.8.1.dev->-r requirements.txt (line 1)) (1.3.0)\n",
      "Requirement already satisfied: pyasn1-modules>=0.2.1 in ./venv/lib/python3.10/site-packages (from google-auth<3,>=1.6.3->tensorboard<2.16,>=2.15->tensorflow==2.15.0->-r requirements.txt (line 2)) (0.4.0)\n",
      "Requirement already satisfied: rsa<5,>=3.1.4 in ./venv/lib/python3.10/site-packages (from google-auth<3,>=1.6.3->tensorboard<2.16,>=2.15->tensorflow==2.15.0->-r requirements.txt (line 2)) (4.9)\n",
      "Requirement already satisfied: cachetools<6.0,>=2.0.0 in ./venv/lib/python3.10/site-packages (from google-auth<3,>=1.6.3->tensorboard<2.16,>=2.15->tensorflow==2.15.0->-r requirements.txt (line 2)) (5.3.3)\n",
      "Requirement already satisfied: requests-oauthlib>=0.7.0 in ./venv/lib/python3.10/site-packages (from google-auth-oauthlib<2,>=0.5->tensorboard<2.16,>=2.15->tensorflow==2.15.0->-r requirements.txt (line 2)) (2.0.0)\n",
      "Requirement already satisfied: urllib3<3,>=1.21.1 in ./venv/lib/python3.10/site-packages (from requests<3,>=2.21.0->tensorboard<2.16,>=2.15->tensorflow==2.15.0->-r requirements.txt (line 2)) (2.2.1)\n",
      "Requirement already satisfied: certifi>=2017.4.17 in ./venv/lib/python3.10/site-packages (from requests<3,>=2.21.0->tensorboard<2.16,>=2.15->tensorflow==2.15.0->-r requirements.txt (line 2)) (2024.6.2)\n",
      "Requirement already satisfied: idna<4,>=2.5 in ./venv/lib/python3.10/site-packages (from requests<3,>=2.21.0->tensorboard<2.16,>=2.15->tensorflow==2.15.0->-r requirements.txt (line 2)) (3.7)\n",
      "Requirement already satisfied: charset-normalizer<4,>=2 in ./venv/lib/python3.10/site-packages (from requests<3,>=2.21.0->tensorboard<2.16,>=2.15->tensorflow==2.15.0->-r requirements.txt (line 2)) (3.3.2)\n",
      "Requirement already satisfied: MarkupSafe>=2.1.1 in ./venv/lib/python3.10/site-packages (from werkzeug>=1.0.1->tensorboard<2.16,>=2.15->tensorflow==2.15.0->-r requirements.txt (line 2)) (2.1.5)\n",
      "Requirement already satisfied: pyasn1<0.7.0,>=0.4.6 in ./venv/lib/python3.10/site-packages (from pyasn1-modules>=0.2.1->google-auth<3,>=1.6.3->tensorboard<2.16,>=2.15->tensorflow==2.15.0->-r requirements.txt (line 2)) (0.6.0)\n",
      "Requirement already satisfied: oauthlib>=3.0.0 in ./venv/lib/python3.10/site-packages (from requests-oauthlib>=0.7.0->google-auth-oauthlib<2,>=0.5->tensorboard<2.16,>=2.15->tensorflow==2.15.0->-r requirements.txt (line 2)) (3.2.2)\n",
      "\n",
      "\u001b[1m[\u001b[0m\u001b[34;49mnotice\u001b[0m\u001b[1;39;49m]\u001b[0m\u001b[39;49m A new release of pip is available: \u001b[0m\u001b[31;49m23.0.1\u001b[0m\u001b[39;49m -> \u001b[0m\u001b[32;49m24.0\u001b[0m\n",
      "\u001b[1m[\u001b[0m\u001b[34;49mnotice\u001b[0m\u001b[1;39;49m]\u001b[0m\u001b[39;49m To update, run: \u001b[0m\u001b[32;49mpip install --upgrade pip\u001b[0m\n",
      "Requirement already satisfied: tensorflow==2.15.0 in ./venv/lib/python3.10/site-packages (2.15.0)\n",
      "Requirement already satisfied: libclang>=13.0.0 in ./venv/lib/python3.10/site-packages (from tensorflow==2.15.0) (18.1.1)\n",
      "Requirement already satisfied: keras<2.16,>=2.15.0 in ./venv/lib/python3.10/site-packages (from tensorflow==2.15.0) (2.15.0)\n",
      "Requirement already satisfied: tensorflow-estimator<2.16,>=2.15.0 in ./venv/lib/python3.10/site-packages (from tensorflow==2.15.0) (2.15.0)\n",
      "Requirement already satisfied: opt-einsum>=2.3.2 in ./venv/lib/python3.10/site-packages (from tensorflow==2.15.0) (3.3.0)\n",
      "Requirement already satisfied: tensorflow-io-gcs-filesystem>=0.23.1 in ./venv/lib/python3.10/site-packages (from tensorflow==2.15.0) (0.37.0)\n",
      "Requirement already satisfied: termcolor>=1.1.0 in ./venv/lib/python3.10/site-packages (from tensorflow==2.15.0) (2.4.0)\n",
      "Requirement already satisfied: typing-extensions>=3.6.6 in ./venv/lib/python3.10/site-packages (from tensorflow==2.15.0) (4.12.2)\n",
      "Requirement already satisfied: astunparse>=1.6.0 in ./venv/lib/python3.10/site-packages (from tensorflow==2.15.0) (1.6.3)\n",
      "Requirement already satisfied: gast!=0.5.0,!=0.5.1,!=0.5.2,>=0.2.1 in ./venv/lib/python3.10/site-packages (from tensorflow==2.15.0) (0.5.4)\n",
      "Requirement already satisfied: flatbuffers>=23.5.26 in ./venv/lib/python3.10/site-packages (from tensorflow==2.15.0) (24.3.25)\n",
      "Requirement already satisfied: tensorboard<2.16,>=2.15 in ./venv/lib/python3.10/site-packages (from tensorflow==2.15.0) (2.15.2)\n",
      "Requirement already satisfied: setuptools in ./venv/lib/python3.10/site-packages (from tensorflow==2.15.0) (65.5.0)\n",
      "Requirement already satisfied: packaging in ./venv/lib/python3.10/site-packages (from tensorflow==2.15.0) (24.1)\n",
      "Requirement already satisfied: absl-py>=1.0.0 in ./venv/lib/python3.10/site-packages (from tensorflow==2.15.0) (2.1.0)\n",
      "Requirement already satisfied: grpcio<2.0,>=1.24.3 in ./venv/lib/python3.10/site-packages (from tensorflow==2.15.0) (1.64.1)\n",
      "Requirement already satisfied: google-pasta>=0.1.1 in ./venv/lib/python3.10/site-packages (from tensorflow==2.15.0) (0.2.0)\n",
      "Requirement already satisfied: h5py>=2.9.0 in ./venv/lib/python3.10/site-packages (from tensorflow==2.15.0) (3.11.0)\n",
      "Requirement already satisfied: six>=1.12.0 in ./venv/lib/python3.10/site-packages (from tensorflow==2.15.0) (1.16.0)\n",
      "Requirement already satisfied: wrapt<1.15,>=1.11.0 in ./venv/lib/python3.10/site-packages (from tensorflow==2.15.0) (1.14.1)\n",
      "Requirement already satisfied: protobuf!=4.21.0,!=4.21.1,!=4.21.2,!=4.21.3,!=4.21.4,!=4.21.5,<5.0.0dev,>=3.20.3 in ./venv/lib/python3.10/site-packages (from tensorflow==2.15.0) (4.25.3)\n",
      "Requirement already satisfied: ml-dtypes~=0.2.0 in ./venv/lib/python3.10/site-packages (from tensorflow==2.15.0) (0.2.0)\n",
      "Requirement already satisfied: numpy<2.0.0,>=1.23.5 in ./venv/lib/python3.10/site-packages (from tensorflow==2.15.0) (1.26.4)\n",
      "Requirement already satisfied: wheel<1.0,>=0.23.0 in ./venv/lib/python3.10/site-packages (from astunparse>=1.6.0->tensorflow==2.15.0) (0.43.0)\n",
      "Requirement already satisfied: werkzeug>=1.0.1 in ./venv/lib/python3.10/site-packages (from tensorboard<2.16,>=2.15->tensorflow==2.15.0) (3.0.3)\n",
      "Requirement already satisfied: markdown>=2.6.8 in ./venv/lib/python3.10/site-packages (from tensorboard<2.16,>=2.15->tensorflow==2.15.0) (3.6)\n",
      "Requirement already satisfied: google-auth-oauthlib<2,>=0.5 in ./venv/lib/python3.10/site-packages (from tensorboard<2.16,>=2.15->tensorflow==2.15.0) (1.2.0)\n",
      "Requirement already satisfied: google-auth<3,>=1.6.3 in ./venv/lib/python3.10/site-packages (from tensorboard<2.16,>=2.15->tensorflow==2.15.0) (2.30.0)\n",
      "Requirement already satisfied: tensorboard-data-server<0.8.0,>=0.7.0 in ./venv/lib/python3.10/site-packages (from tensorboard<2.16,>=2.15->tensorflow==2.15.0) (0.7.2)\n",
      "Requirement already satisfied: requests<3,>=2.21.0 in ./venv/lib/python3.10/site-packages (from tensorboard<2.16,>=2.15->tensorflow==2.15.0) (2.32.3)\n",
      "Requirement already satisfied: cachetools<6.0,>=2.0.0 in ./venv/lib/python3.10/site-packages (from google-auth<3,>=1.6.3->tensorboard<2.16,>=2.15->tensorflow==2.15.0) (5.3.3)\n",
      "Requirement already satisfied: rsa<5,>=3.1.4 in ./venv/lib/python3.10/site-packages (from google-auth<3,>=1.6.3->tensorboard<2.16,>=2.15->tensorflow==2.15.0) (4.9)\n",
      "Requirement already satisfied: pyasn1-modules>=0.2.1 in ./venv/lib/python3.10/site-packages (from google-auth<3,>=1.6.3->tensorboard<2.16,>=2.15->tensorflow==2.15.0) (0.4.0)\n",
      "Requirement already satisfied: requests-oauthlib>=0.7.0 in ./venv/lib/python3.10/site-packages (from google-auth-oauthlib<2,>=0.5->tensorboard<2.16,>=2.15->tensorflow==2.15.0) (2.0.0)\n",
      "Requirement already satisfied: idna<4,>=2.5 in ./venv/lib/python3.10/site-packages (from requests<3,>=2.21.0->tensorboard<2.16,>=2.15->tensorflow==2.15.0) (3.7)\n",
      "Requirement already satisfied: urllib3<3,>=1.21.1 in ./venv/lib/python3.10/site-packages (from requests<3,>=2.21.0->tensorboard<2.16,>=2.15->tensorflow==2.15.0) (2.2.1)\n",
      "Requirement already satisfied: certifi>=2017.4.17 in ./venv/lib/python3.10/site-packages (from requests<3,>=2.21.0->tensorboard<2.16,>=2.15->tensorflow==2.15.0) (2024.6.2)\n",
      "Requirement already satisfied: charset-normalizer<4,>=2 in ./venv/lib/python3.10/site-packages (from requests<3,>=2.21.0->tensorboard<2.16,>=2.15->tensorflow==2.15.0) (3.3.2)\n",
      "Requirement already satisfied: MarkupSafe>=2.1.1 in ./venv/lib/python3.10/site-packages (from werkzeug>=1.0.1->tensorboard<2.16,>=2.15->tensorflow==2.15.0) (2.1.5)\n",
      "Requirement already satisfied: pyasn1<0.7.0,>=0.4.6 in ./venv/lib/python3.10/site-packages (from pyasn1-modules>=0.2.1->google-auth<3,>=1.6.3->tensorboard<2.16,>=2.15->tensorflow==2.15.0) (0.6.0)\n",
      "Requirement already satisfied: oauthlib>=3.0.0 in ./venv/lib/python3.10/site-packages (from requests-oauthlib>=0.7.0->google-auth-oauthlib<2,>=0.5->tensorboard<2.16,>=2.15->tensorflow==2.15.0) (3.2.2)\n",
      "\n",
      "\u001b[1m[\u001b[0m\u001b[34;49mnotice\u001b[0m\u001b[1;39;49m]\u001b[0m\u001b[39;49m A new release of pip is available: \u001b[0m\u001b[31;49m23.0.1\u001b[0m\u001b[39;49m -> \u001b[0m\u001b[32;49m24.0\u001b[0m\n",
      "\u001b[1m[\u001b[0m\u001b[34;49mnotice\u001b[0m\u001b[1;39;49m]\u001b[0m\u001b[39;49m To update, run: \u001b[0m\u001b[32;49mpip install --upgrade pip\u001b[0m\n"
     ]
    }
   ],
   "source": [
    "!pip install -r requirements.txt\n",
    "!pip install tensorflow==2.15.0 # For some reason, installing tensorflow from requirements.txt sometimes doesn't have cuda support."
   ]
  },
  {
   "cell_type": "markdown",
   "metadata": {},
   "source": [
    "### Import libs"
   ]
  },
  {
   "cell_type": "markdown",
   "metadata": {},
   "source": [
    "Ensure tensorflow is the correct version and has GPU support. Note that tensorflow is pinned to 2.15.0 due to compatibility issues with Deepchem."
   ]
  },
  {
   "cell_type": "code",
   "execution_count": 1,
   "metadata": {},
   "outputs": [
    {
     "name": "stderr",
     "output_type": "stream",
     "text": [
      "2024-06-17 15:53:20.708749: I tensorflow/core/util/port.cc:113] oneDNN custom operations are on. You may see slightly different numerical results due to floating-point round-off errors from different computation orders. To turn them off, set the environment variable `TF_ENABLE_ONEDNN_OPTS=0`.\n",
      "2024-06-17 15:53:20.730098: E external/local_xla/xla/stream_executor/cuda/cuda_dnn.cc:9261] Unable to register cuDNN factory: Attempting to register factory for plugin cuDNN when one has already been registered\n",
      "2024-06-17 15:53:20.730120: E external/local_xla/xla/stream_executor/cuda/cuda_fft.cc:607] Unable to register cuFFT factory: Attempting to register factory for plugin cuFFT when one has already been registered\n",
      "2024-06-17 15:53:20.730688: E external/local_xla/xla/stream_executor/cuda/cuda_blas.cc:1515] Unable to register cuBLAS factory: Attempting to register factory for plugin cuBLAS when one has already been registered\n",
      "2024-06-17 15:53:20.734597: I tensorflow/core/platform/cpu_feature_guard.cc:182] This TensorFlow binary is optimized to use available CPU instructions in performance-critical operations.\n",
      "To enable the following instructions: AVX2 AVX_VNNI FMA, in other operations, rebuild TensorFlow with the appropriate compiler flags.\n",
      "2024-06-17 15:53:21.163505: W tensorflow/compiler/tf2tensorrt/utils/py_utils.cc:38] TF-TRT Warning: Could not find TensorRT\n"
     ]
    },
    {
     "name": "stdout",
     "output_type": "stream",
     "text": [
      "2.15.0\n"
     ]
    },
    {
     "name": "stderr",
     "output_type": "stream",
     "text": [
      "2024-06-17 15:53:21.827258: I external/local_xla/xla/stream_executor/cuda/cuda_executor.cc:887] could not open file to read NUMA node: /sys/bus/pci/devices/0000:01:00.0/numa_node\n",
      "Your kernel may have been built without NUMA support.\n",
      "2024-06-17 15:53:21.846249: I external/local_xla/xla/stream_executor/cuda/cuda_executor.cc:887] could not open file to read NUMA node: /sys/bus/pci/devices/0000:01:00.0/numa_node\n",
      "Your kernel may have been built without NUMA support.\n",
      "2024-06-17 15:53:21.846285: I external/local_xla/xla/stream_executor/cuda/cuda_executor.cc:887] could not open file to read NUMA node: /sys/bus/pci/devices/0000:01:00.0/numa_node\n",
      "Your kernel may have been built without NUMA support.\n",
      "2024-06-17 15:53:21.980246: I external/local_xla/xla/stream_executor/cuda/cuda_executor.cc:887] could not open file to read NUMA node: /sys/bus/pci/devices/0000:01:00.0/numa_node\n",
      "Your kernel may have been built without NUMA support.\n",
      "2024-06-17 15:53:21.980281: I external/local_xla/xla/stream_executor/cuda/cuda_executor.cc:887] could not open file to read NUMA node: /sys/bus/pci/devices/0000:01:00.0/numa_node\n",
      "Your kernel may have been built without NUMA support.\n",
      "2024-06-17 15:53:21.980285: I tensorflow/core/common_runtime/gpu/gpu_device.cc:2022] Could not identify NUMA node of platform GPU id 0, defaulting to 0.  Your kernel may not have been built with NUMA support.\n",
      "2024-06-17 15:53:21.980303: I external/local_xla/xla/stream_executor/cuda/cuda_executor.cc:887] could not open file to read NUMA node: /sys/bus/pci/devices/0000:01:00.0/numa_node\n",
      "Your kernel may have been built without NUMA support.\n",
      "2024-06-17 15:53:21.980315: I tensorflow/core/common_runtime/gpu/gpu_device.cc:1929] Created device /device:GPU:0 with 5592 MB memory:  -> device: 0, name: NVIDIA GeForce RTX 3060 Ti, pci bus id: 0000:01:00.0, compute capability: 8.6\n"
     ]
    },
    {
     "data": {
      "text/plain": [
       "'/device:GPU:0'"
      ]
     },
     "execution_count": 1,
     "metadata": {},
     "output_type": "execute_result"
    }
   ],
   "source": [
    "import tensorflow as tf\n",
    "print(tf.__version__)\n",
    "tf.test.gpu_device_name()"
   ]
  },
  {
   "cell_type": "code",
   "execution_count": 1,
   "metadata": {},
   "outputs": [
    {
     "name": "stderr",
     "output_type": "stream",
     "text": [
      "Skipped loading some Pytorch utilities, missing a dependency. No module named 'torch'\n",
      "No normalization for SPS. Feature removed!\n",
      "No normalization for AvgIpc. Feature removed!\n"
     ]
    },
    {
     "name": "stdout",
     "output_type": "stream",
     "text": [
      "This module requires PyTorch to be installed.\n"
     ]
    },
    {
     "name": "stderr",
     "output_type": "stream",
     "text": [
      "2024-06-17 15:54:42.168538: I tensorflow/core/util/port.cc:113] oneDNN custom operations are on. You may see slightly different numerical results due to floating-point round-off errors from different computation orders. To turn them off, set the environment variable `TF_ENABLE_ONEDNN_OPTS=0`.\n",
      "2024-06-17 15:54:42.190128: E external/local_xla/xla/stream_executor/cuda/cuda_dnn.cc:9261] Unable to register cuDNN factory: Attempting to register factory for plugin cuDNN when one has already been registered\n",
      "2024-06-17 15:54:42.190151: E external/local_xla/xla/stream_executor/cuda/cuda_fft.cc:607] Unable to register cuFFT factory: Attempting to register factory for plugin cuFFT when one has already been registered\n",
      "2024-06-17 15:54:42.190766: E external/local_xla/xla/stream_executor/cuda/cuda_blas.cc:1515] Unable to register cuBLAS factory: Attempting to register factory for plugin cuBLAS when one has already been registered\n",
      "2024-06-17 15:54:42.194807: I tensorflow/core/platform/cpu_feature_guard.cc:182] This TensorFlow binary is optimized to use available CPU instructions in performance-critical operations.\n",
      "To enable the following instructions: AVX2 AVX_VNNI FMA, in other operations, rebuild TensorFlow with the appropriate compiler flags.\n",
      "2024-06-17 15:54:42.652442: W tensorflow/compiler/tf2tensorrt/utils/py_utils.cc:38] TF-TRT Warning: Could not find TensorRT\n"
     ]
    },
    {
     "name": "stdout",
     "output_type": "stream",
     "text": [
      "WARNING:tensorflow:From /home/matcha/Code/deepchem_net/venv/lib/python3.10/site-packages/tensorflow/python/util/deprecation.py:588: calling function (from tensorflow.python.eager.polymorphic_function.polymorphic_function) with experimental_relax_shapes is deprecated and will be removed in a future version.\n",
      "Instructions for updating:\n",
      "experimental_relax_shapes is deprecated, use reduce_retracing instead\n"
     ]
    },
    {
     "name": "stderr",
     "output_type": "stream",
     "text": [
      "Skipped loading some PyTorch models, missing a dependency. No module named 'torch'\n",
      "No module named 'torch'\n",
      "Skipped loading modules with pytorch-geometric dependency, missing a dependency. No module named 'torch'\n",
      "Skipped loading modules with pytorch-lightning dependency, missing a dependency. No module named 'torch'\n",
      "Skipped loading some Jax models, missing a dependency. No module named 'jax'\n"
     ]
    },
    {
     "data": {
      "text/plain": [
       "'2.8.1.dev'"
      ]
     },
     "execution_count": 1,
     "metadata": {},
     "output_type": "execute_result"
    }
   ],
   "source": [
    "import deepchem as dc # requires python3<=3.11, numpy<2.0.0, tensorflow==2.15.0\n",
    "dc.__version__"
   ]
  },
  {
   "cell_type": "markdown",
   "metadata": {},
   "source": [
    "You can build the training dataset yourself, or you can load the pre-built version from file. If you would like to load the pre-built dataset, feel free to ignore the next few cells."
   ]
  },
  {
   "cell_type": "code",
   "execution_count": 3,
   "metadata": {},
   "outputs": [],
   "source": [
    "dataset_file = 'datasets/train_set_no_oversampling.csv'\n",
    "task = ['Biodegradation']\n",
    "featurizer_func = dc.feat.ConvMolFeaturizer()\n",
    "\n",
    "loader = dc.data.CSVLoader(tasks=task, feature_field='smiles', featurizer=featurizer_func)\n",
    "dataset = loader.create_dataset(dataset_file)"
   ]
  },
  {
   "cell_type": "markdown",
   "metadata": {},
   "source": [
    "Balance the dataset using Deepchem `BalancingTransformer`."
   ]
  },
  {
   "cell_type": "code",
   "execution_count": 4,
   "metadata": {},
   "outputs": [],
   "source": [
    "transformer = dc.trans.BalancingTransformer(dataset=dataset)\n",
    "balanced_dataset = transformer.transform(dataset)"
   ]
  },
  {
   "cell_type": "markdown",
   "metadata": {},
   "source": [
    "Save to disk"
   ]
  },
  {
   "cell_type": "code",
   "execution_count": 5,
   "metadata": {},
   "outputs": [],
   "source": [
    "dc.utils.save_to_disk(balanced_dataset, 'prebuilt_datasets/balanced_dataset.joblib')"
   ]
  },
  {
   "cell_type": "markdown",
   "metadata": {},
   "source": [
    "Alternatively, you can just run this to load the pre-built dataset from file."
   ]
  },
  {
   "cell_type": "code",
   "execution_count": 2,
   "metadata": {},
   "outputs": [],
   "source": [
    "balanced_dataset = dc.utils.load_from_disk('prebuilt_datasets/balanced_dataset.joblib')"
   ]
  },
  {
   "cell_type": "markdown",
   "metadata": {},
   "source": [
    "Use the GraphConvModel from Deepchem with 0.2 dropout. Note that all checkpoints will be saved in the models directory."
   ]
  },
  {
   "cell_type": "code",
   "execution_count": 32,
   "metadata": {},
   "outputs": [],
   "source": [
    "model = dc.models.GraphConvModel(n_tasks=1, mode='classification', dropout=0.2, graph_conv_layers=[128 ,128], dense_layer_size=128)"
   ]
  },
  {
   "cell_type": "code",
   "execution_count": 18,
   "metadata": {},
   "outputs": [
    {
     "data": {
      "text/plain": [
       "<deepchem.models.losses.SoftmaxCrossEntropy at 0x7f5564277700>"
      ]
     },
     "execution_count": 18,
     "metadata": {},
     "output_type": "execute_result"
    }
   ],
   "source": [
    "model.loss"
   ]
  },
  {
   "cell_type": "code",
   "execution_count": 33,
   "metadata": {},
   "outputs": [
    {
     "data": {
      "text/plain": [
       "0.16216991424560548"
      ]
     },
     "execution_count": 33,
     "metadata": {},
     "output_type": "execute_result"
    }
   ],
   "source": [
    "model.fit(balanced_dataset, nb_epoch=100)"
   ]
  },
  {
   "cell_type": "markdown",
   "metadata": {},
   "source": [
    "Run the following cell to build the test set, or skip it and load the pre-built test set directly from file."
   ]
  },
  {
   "cell_type": "code",
   "execution_count": 28,
   "metadata": {},
   "outputs": [],
   "source": [
    "test_set = 'datasets/test_set.csv'\n",
    "featurizer_func = dc.feat.ConvMolFeaturizer()\n",
    "task = ['Biodegradation']\n",
    "\n",
    "loader = dc.data.CSVLoader(feature_field='smiles', featurizer=featurizer_func, tasks=task)\n",
    "test_dataset = loader.create_dataset(test_set)\n",
    "\n",
    "dc.utils.save_to_disk(test_dataset, 'prebuilt_datasets/test_dataset.joblib')"
   ]
  },
  {
   "cell_type": "markdown",
   "metadata": {},
   "source": [
    "Load the test dataset"
   ]
  },
  {
   "cell_type": "code",
   "execution_count": 29,
   "metadata": {},
   "outputs": [],
   "source": [
    "test_dataset = dc.utils.load_from_disk('prebuilt_datasets/test_dataset.joblib')"
   ]
  },
  {
   "cell_type": "markdown",
   "metadata": {},
   "source": [
    "Evaluate the model on the test set."
   ]
  },
  {
   "cell_type": "code",
   "execution_count": 34,
   "metadata": {},
   "outputs": [
    {
     "data": {
      "text/plain": [
       "{'roc_auc_score': 0.9160690303518668,\n",
       " 'matthews_corrcoef': 0.6472172956325212,\n",
       " 'recall_score': 0.9041095890410958}"
      ]
     },
     "execution_count": 34,
     "metadata": {},
     "output_type": "execute_result"
    }
   ],
   "source": [
    "model.evaluate(test_dataset, [dc.metrics.Metric(dc.metrics.roc_auc_score), dc.metrics.Metric(dc.metrics.matthews_corrcoef), dc.metrics.Metric(dc.metrics.recall_score) ])"
   ]
  },
  {
   "cell_type": "markdown",
   "metadata": {},
   "source": [
    "Predict using new smiles strings."
   ]
  },
  {
   "cell_type": "code",
   "execution_count": 35,
   "metadata": {},
   "outputs": [
    {
     "data": {
      "text/plain": [
       "{'Biodegradable Probability': 0.0001791798,\n",
       " 'Not biodegradable Probability': 0.9998209}"
      ]
     },
     "execution_count": 35,
     "metadata": {},
     "output_type": "execute_result"
    }
   ],
   "source": [
    "def predict_smiles(smiles: str):\n",
    "    featurizer_func = dc.feat.ConvMolFeaturizer()\n",
    "    featured_smiles = featurizer_func.featurize([smiles])\n",
    "    result = model.predict_on_batch(featured_smiles)[0][0]\n",
    "    \n",
    "    return {\n",
    "        'Biodegradable Probability': result[1],\n",
    "        'Not biodegradable Probability': result[0]\n",
    "    }\n",
    "\n",
    "\n",
    "predict_smiles('OCC(F)(F)C(F)(F)C(F)(F)C(F)(F)C(F)(F)C(F)F')"
   ]
  },
  {
   "cell_type": "code",
   "execution_count": 23,
   "metadata": {},
   "outputs": [],
   "source": [
    "import numpy as np\n",
    "\n",
    "# load csv file\n",
    "import pandas as pd\n",
    "df = pd.read_csv('datasets/test_set.csv')\n",
    "\n",
    "# get the smiles column\n",
    "smiles = df['smiles']\n",
    "biodegration = df['Biodegradation']"
   ]
  },
  {
   "cell_type": "code",
   "execution_count": 16,
   "metadata": {},
   "outputs": [
    {
     "data": {
      "text/plain": [
       "0                      CCCCCCCCCCCCCCO\n",
       "1                    O=C(O)/C=C/C(=O)O\n",
       "2                CC(C)COc1ccc2ccccc2c1\n",
       "3                            OCc1cncs1\n",
       "4                   C=C(C)C(=O)OCC(C)C\n",
       "                    ...               \n",
       "554                     COc1ccc(OC)cc1\n",
       "555    CCCCCCCCCCCCCCC(CO)CCCCCCCCCCCC\n",
       "556           Nc1ccc2[nH]c(=O)[nH]c2c1\n",
       "557          CC(C)Nc1ccc(Nc2ccccc2)cc1\n",
       "558          COc1c2occc2cc2ccc(=O)oc12\n",
       "Name: smiles, Length: 559, dtype: object"
      ]
     },
     "execution_count": 16,
     "metadata": {},
     "output_type": "execute_result"
    }
   ],
   "source": [
    "smiles"
   ]
  },
  {
   "cell_type": "code",
   "execution_count": 36,
   "metadata": {},
   "outputs": [
    {
     "name": "stdout",
     "output_type": "stream",
     "text": [
      "ROC AUC: 0.9160623153370937\n",
      "Matthews Correlation Coefficient: 0.6472172956325212\n",
      "Recall: 0.9041095890410958\n",
      "Specificity: 0.7588235294117647\n",
      "Sensitivity: 0.9041095890410958\n"
     ]
    }
   ],
   "source": [
    "from sklearn.metrics import roc_auc_score, matthews_corrcoef, recall_score, confusion_matrix\n",
    "\n",
    "def specificity_score(y_true, y_pred):\n",
    "    tn, fp, fn, tp = confusion_matrix(y_true, y_pred).ravel()\n",
    "    return tn / (tn+fp)\n",
    "\n",
    "\n",
    "def sensitivity_score(y_true, y_pred):\n",
    "    tn, fp, fn, tp = confusion_matrix(y_true, y_pred).ravel()\n",
    "    return tp / (tp+fn)\n",
    "\n",
    "\n",
    "y_true = biodegration\n",
    "y_pred = []\n",
    "\n",
    "for smile in smiles:\n",
    "    result = predict_smiles(smile)\n",
    "    y_pred.append(result['Biodegradable Probability'])\n",
    "    \n",
    "roc, mcc, rec, sp, sn = roc_auc_score(y_true, y_pred), matthews_corrcoef(y_true, np.round(y_pred)), recall_score(y_true, np.round(y_pred)), specificity_score(y_true, np.round(y_pred)) , sensitivity_score(y_true, np.round(y_pred))\n",
    "\n",
    "\n",
    "print(f'ROC AUC: {roc}')\n",
    "print(f'Matthews Correlation Coefficient: {mcc}')\n",
    "print(f'Recall: {rec}')\n",
    "print(f'Specificity: {sp}')\n",
    "print(f'Sensitivity: {sn}')\n"
   ]
  },
  {
   "cell_type": "code",
   "execution_count": 56,
   "metadata": {},
   "outputs": [
    {
     "name": "stdout",
     "output_type": "stream",
     "text": [
      "Requirement already satisfied: seaborn in /home/matcha/miniconda3/envs/py10/lib/python3.10/site-packages (0.13.2)\n",
      "Requirement already satisfied: matplotlib in /home/matcha/miniconda3/envs/py10/lib/python3.10/site-packages (3.9.0)\n",
      "Requirement already satisfied: numpy!=1.24.0,>=1.20 in /home/matcha/miniconda3/envs/py10/lib/python3.10/site-packages (from seaborn) (1.26.4)\n",
      "Requirement already satisfied: pandas>=1.2 in /home/matcha/miniconda3/envs/py10/lib/python3.10/site-packages (from seaborn) (2.2.2)\n",
      "Requirement already satisfied: contourpy>=1.0.1 in /home/matcha/miniconda3/envs/py10/lib/python3.10/site-packages (from matplotlib) (1.2.1)\n",
      "Requirement already satisfied: cycler>=0.10 in /home/matcha/miniconda3/envs/py10/lib/python3.10/site-packages (from matplotlib) (0.12.1)\n",
      "Requirement already satisfied: fonttools>=4.22.0 in /home/matcha/miniconda3/envs/py10/lib/python3.10/site-packages (from matplotlib) (4.53.0)\n",
      "Requirement already satisfied: kiwisolver>=1.3.1 in /home/matcha/miniconda3/envs/py10/lib/python3.10/site-packages (from matplotlib) (1.4.5)\n",
      "Requirement already satisfied: packaging>=20.0 in /home/matcha/miniconda3/envs/py10/lib/python3.10/site-packages (from matplotlib) (24.1)\n",
      "Requirement already satisfied: pillow>=8 in /home/matcha/miniconda3/envs/py10/lib/python3.10/site-packages (from matplotlib) (10.3.0)\n",
      "Requirement already satisfied: pyparsing>=2.3.1 in /home/matcha/miniconda3/envs/py10/lib/python3.10/site-packages (from matplotlib) (3.1.2)\n",
      "Requirement already satisfied: python-dateutil>=2.7 in /home/matcha/miniconda3/envs/py10/lib/python3.10/site-packages (from matplotlib) (2.9.0)\n",
      "Requirement already satisfied: pytz>=2020.1 in /home/matcha/miniconda3/envs/py10/lib/python3.10/site-packages (from pandas>=1.2->seaborn) (2024.1)\n",
      "Requirement already satisfied: tzdata>=2022.7 in /home/matcha/miniconda3/envs/py10/lib/python3.10/site-packages (from pandas>=1.2->seaborn) (2024.1)\n",
      "Requirement already satisfied: six>=1.5 in /home/matcha/miniconda3/envs/py10/lib/python3.10/site-packages (from python-dateutil>=2.7->matplotlib) (1.16.0)\n"
     ]
    }
   ],
   "source": [
    "!pip install seaborn matplotlib"
   ]
  },
  {
   "cell_type": "code",
   "execution_count": 31,
   "metadata": {},
   "outputs": [
    {
     "data": {
      "text/plain": [
       "<Axes: >"
      ]
     },
     "execution_count": 31,
     "metadata": {},
     "output_type": "execute_result"
    },
    {
     "data": {
      "image/png": "[encoded data removed]",
      "text/plain": [
       "<Figure size 640x480 with 2 Axes>"
      ]
     },
     "metadata": {},
     "output_type": "display_data"
    }
   ],
   "source": [
    "# confusion matrix\n",
    "from sklearn.metrics import confusion_matrix\n",
    "import seaborn as sns\n",
    "\n",
    "cm = confusion_matrix(y_true, np.round(y_pred))\n",
    "sns.heatmap(cm, annot=True, fmt='d')"
   ]
  },
  {
   "cell_type": "markdown",
   "metadata": {},
   "source": [
    "## Hyperparameter tuning via Ray Tune"
   ]
  },
  {
   "cell_type": "code",
   "execution_count": null,
   "metadata": {},
   "outputs": [],
   "source": [
    "from ray import tune\n",
    "from ray.tune.schedulers import ASHAScheduler\n",
    "import deepchem as dc\n",
    "\n",
    "\n",
    "class DeepChemTrainable(tune.Trainable):\n",
    "    def setup(self, config):\n",
    "        self.config = config\n",
    "        self.model = dc.models.GraphConvModel(n_tasks=1, mode='classification', \n",
    "                                              dropout=config['dropout'], \n",
    "                                              graph_conv_layers=config['graph_conv_layers'], \n",
    "                                              dense_layer_size=config['dense_layer_size'])\n",
    "        self.model.fit(balanced_dataset, nb_epoch=config['nb_epoch'])\n",
    "\n",
    "    def step(self):\n",
    "        result = self.model.evaluate(test_dataset, [dc.metrics.Metric(dc.metrics.roc_auc_score), \n",
    "                                                    dc.metrics.Metric(dc.metrics.matthews_corrcoef), \n",
    "                                                    dc.metrics.Metric(dc.metrics.recall_score) ])\n",
    "        return {\"roc_auc\": result['roc_auc_score'], \n",
    "                \"mcc\": result['matthews_corrcoef'], \n",
    "                \"recall\": result['recall_score']}\n",
    "\n",
    "search_space = {\n",
    "    \"nb_epoch\": tune.grid_search([50, 70]),\n",
    "    \"graph_conv_layers\": tune.grid_search([[32, 32], [64, 64], [128, 128]]),\n",
    "    \"dense_layer_size\": tune.grid_search([128, 256, 512]),\n",
    "    \"dropout\": tune.grid_search([0.0, 0.1, 0.2])\n",
    "}\n",
    "\n",
    "analysis = tune.run(\n",
    "    DeepChemTrainable,\n",
    "    resources_per_trial={\"cpu\": 20, \"gpu\": 1},\n",
    "    config=search_space,\n",
    "    scheduler=ASHAScheduler(metric=\"roc_auc\", mode=\"max\"),\n",
    "    num_samples=1\n",
    ")\n"
   ]
  },
  {
   "cell_type": "code",
   "execution_count": 38,
   "metadata": {},
   "outputs": [
    {
     "data": {
      "text/html": [
       "<div>\n",
       "<style scoped>\n",
       "    .dataframe tbody tr th:only-of-type {\n",
       "        vertical-align: middle;\n",
       "    }\n",
       "\n",
       "    .dataframe tbody tr th {\n",
       "        vertical-align: top;\n",
       "    }\n",
       "\n",
       "    .dataframe thead th {\n",
       "        text-align: right;\n",
       "    }\n",
       "</style>\n",
       "<table border=\"1\" class=\"dataframe\">\n",
       "  <thead>\n",
       "    <tr style=\"text-align: right;\">\n",
       "      <th></th>\n",
       "      <th>roc_auc</th>\n",
       "      <th>mcc</th>\n",
       "      <th>recall</th>\n",
       "      <th>done</th>\n",
       "      <th>training_iteration</th>\n",
       "      <th>trial_id</th>\n",
       "      <th>date</th>\n",
       "      <th>timestamp</th>\n",
       "      <th>time_this_iter_s</th>\n",
       "      <th>time_total_s</th>\n",
       "      <th>pid</th>\n",
       "      <th>hostname</th>\n",
       "      <th>node_ip</th>\n",
       "      <th>time_since_restore</th>\n",
       "      <th>iterations_since_restore</th>\n",
       "      <th>config/nb_epoch</th>\n",
       "      <th>config/graph_conv_layers</th>\n",
       "      <th>config/dense_layer_size</th>\n",
       "      <th>config/dropout</th>\n",
       "      <th>logdir</th>\n",
       "    </tr>\n",
       "  </thead>\n",
       "  <tbody>\n",
       "    <tr>\n",
       "      <th>0</th>\n",
       "      <td>0.913323</td>\n",
       "      <td>0.659435</td>\n",
       "      <td>0.821918</td>\n",
       "      <td>True</td>\n",
       "      <td>100</td>\n",
       "      <td>eb6db_00000</td>\n",
       "      <td>2024-06-17_12-16-42</td>\n",
       "      <td>1718641002</td>\n",
       "      <td>0.040612</td>\n",
       "      <td>5.080467</td>\n",
       "      <td>206250</td>\n",
       "      <td>HPGD</td>\n",
       "      <td>172.27.21.110</td>\n",
       "      <td>5.080467</td>\n",
       "      <td>100</td>\n",
       "      <td>50</td>\n",
       "      <td>[32, 32]</td>\n",
       "      <td>128</td>\n",
       "      <td>0.0</td>\n",
       "      <td>eb6db_00000</td>\n",
       "    </tr>\n",
       "  </tbody>\n",
       "</table>\n",
       "</div>"
      ],
      "text/plain": [
       "    roc_auc       mcc    recall  done  training_iteration     trial_id  \\\n",
       "0  0.913323  0.659435  0.821918  True                 100  eb6db_00000   \n",
       "\n",
       "                  date   timestamp  time_this_iter_s  time_total_s     pid  \\\n",
       "0  2024-06-17_12-16-42  1718641002          0.040612      5.080467  206250   \n",
       "\n",
       "  hostname        node_ip  time_since_restore  iterations_since_restore  \\\n",
       "0     HPGD  172.27.21.110            5.080467                       100   \n",
       "\n",
       "   config/nb_epoch config/graph_conv_layers  config/dense_layer_size  \\\n",
       "0               50                 [32, 32]                      128   \n",
       "\n",
       "   config/dropout       logdir  \n",
       "0             0.0  eb6db_00000  "
      ]
     },
     "execution_count": 38,
     "metadata": {},
     "output_type": "execute_result"
    }
   ],
   "source": [
    "analysis.dataframe()"
   ]
  },
  {
   "cell_type": "code",
   "execution_count": 23,
   "metadata": {},
   "outputs": [],
   "source": [
    "df = analysis.dataframe()"
   ]
  },
  {
   "cell_type": "code",
   "execution_count": 24,
   "metadata": {},
   "outputs": [],
   "source": [
    "df.to_csv('tune_results.csv')"
   ]
  },
  {
   "cell_type": "code",
   "execution_count": 35,
   "metadata": {},
   "outputs": [
    {
     "data": {
      "text/plain": [
       "{'nb_epoch': 70,\n",
       " 'graph_conv_layers': [32, 32],\n",
       " 'dense_layer_size': 128,\n",
       " 'dropout': 0.0}"
      ]
     },
     "execution_count": 35,
     "metadata": {},
     "output_type": "execute_result"
    }
   ],
   "source": [
    "analysis.get_best_config(metric='mcc', mode='max')"
   ]
  },
  {
   "cell_type": "code",
   "execution_count": null,
   "metadata": {},
   "outputs": [],
   "source": [
    "BEST_CONFIG = {'nb_epoch': 70, 'graph_conv_layers': [32, 32], 'dense_layer_size': 128, 'dropout': 0.0}"
   ]
  },
  {
   "cell_type": "code",
   "execution_count": 45,
   "metadata": {},
   "outputs": [
    {
     "name": "stderr",
     "output_type": "stream",
     "text": [
      "2024-06-17 12:30:35,220\tINFO tune.py:616 -- [output] This uses the legacy output and progress reporter, as Jupyter notebooks are not supported by the new engine, yet. For more information, please see https://github.com/ray-project/ray/issues/36949\n"
     ]
    },
    {
     "data": {
      "text/html": [
       "<div class=\"tuneStatus\">\n",
       "  <div style=\"display: flex;flex-direction: row\">\n",
       "    <div style=\"display: flex;flex-direction: column;\">\n",
       "      <h3>Tune Status</h3>\n",
       "      <table>\n",
       "<tbody>\n",
       "<tr><td>Current time:</td><td>2024-06-17 12:31:25</td></tr>\n",
       "<tr><td>Running for: </td><td>00:00:50.62        </td></tr>\n",
       "<tr><td>Memory:      </td><td>6.9/29.4 GiB       </td></tr>\n",
       "</tbody>\n",
       "</table>\n",
       "    </div>\n",
       "    <div class=\"vDivider\"></div>\n",
       "    <div class=\"systemInfo\">\n",
       "      <h3>System Info</h3>\n",
       "      Using AsyncHyperBand: num_stopped=2<br>Bracket: Iter 64.000: 0.916747246843943 | Iter 16.000: 0.916747246843943 | Iter 4.000: 0.916747246843943 | Iter 1.000: 0.916011952726296<br>Logical resource usage: 20.0/24 CPUs, 1.0/1 GPUs (0.0/1.0 accelerator_type:G)\n",
       "    </div>\n",
       "    \n",
       "  </div>\n",
       "  <div class=\"hDivider\"></div>\n",
       "  <div class=\"trialStatus\">\n",
       "    <h3>Trial Status</h3>\n",
       "    <table>\n",
       "<thead>\n",
       "<tr><th>Trial name                   </th><th>status    </th><th>loc                 </th><th style=\"text-align: right;\">  dense_layer_size</th><th style=\"text-align: right;\">  dropout</th><th>graph_conv_layers  </th><th style=\"text-align: right;\">  nb_epoch</th><th style=\"text-align: right;\">  iter</th><th style=\"text-align: right;\">  total time (s)</th><th style=\"text-align: right;\">  roc_auc</th><th style=\"text-align: right;\">     mcc</th><th style=\"text-align: right;\">  recall</th></tr>\n",
       "</thead>\n",
       "<tbody>\n",
       "<tr><td>DeepChemTrainable_ec59d_00000</td><td>TERMINATED</td><td>172.27.21.110:223791</td><td style=\"text-align: right;\">               128</td><td style=\"text-align: right;\">      0.2</td><td>[64, 64]           </td><td style=\"text-align: right;\">        50</td><td style=\"text-align: right;\">   100</td><td style=\"text-align: right;\">        4.76665 </td><td style=\"text-align: right;\"> 0.916747</td><td style=\"text-align: right;\">0.64887 </td><td style=\"text-align: right;\">0.872146</td></tr>\n",
       "<tr><td>DeepChemTrainable_ec59d_00001</td><td>TERMINATED</td><td>172.27.21.110:224861</td><td style=\"text-align: right;\">               128</td><td style=\"text-align: right;\">      0.2</td><td>[128, 128]         </td><td style=\"text-align: right;\">        50</td><td style=\"text-align: right;\">     1</td><td style=\"text-align: right;\">        0.489309</td><td style=\"text-align: right;\"> 0.913806</td><td style=\"text-align: right;\">0.671947</td><td style=\"text-align: right;\">0.899543</td></tr>\n",
       "</tbody>\n",
       "</table>\n",
       "  </div>\n",
       "</div>\n",
       "<style>\n",
       ".tuneStatus {\n",
       "  color: var(--jp-ui-font-color1);\n",
       "}\n",
       ".tuneStatus .systemInfo {\n",
       "  display: flex;\n",
       "  flex-direction: column;\n",
       "}\n",
       ".tuneStatus td {\n",
       "  white-space: nowrap;\n",
       "}\n",
       ".tuneStatus .trialStatus {\n",
       "  display: flex;\n",
       "  flex-direction: column;\n",
       "}\n",
       ".tuneStatus h3 {\n",
       "  font-weight: bold;\n",
       "}\n",
       ".tuneStatus .hDivider {\n",
       "  border-bottom-width: var(--jp-border-width);\n",
       "  border-bottom-color: var(--jp-border-color0);\n",
       "  border-bottom-style: solid;\n",
       "}\n",
       ".tuneStatus .vDivider {\n",
       "  border-left-width: var(--jp-border-width);\n",
       "  border-left-color: var(--jp-border-color0);\n",
       "  border-left-style: solid;\n",
       "  margin: 0.5em 1em 0.5em 1em;\n",
       "}\n",
       "</style>\n"
      ],
      "text/plain": [
       "<IPython.core.display.HTML object>"
      ]
     },
     "metadata": {},
     "output_type": "display_data"
    },
    {
     "data": {
      "text/html": [
       "<div class=\"trialProgress\">\n",
       "  <h3>Trial Progress</h3>\n",
       "  <table>\n",
       "<thead>\n",
       "<tr><th>Trial name                   </th><th style=\"text-align: right;\">     mcc</th><th style=\"text-align: right;\">  recall</th><th style=\"text-align: right;\">  roc_auc</th></tr>\n",
       "</thead>\n",
       "<tbody>\n",
       "<tr><td>DeepChemTrainable_ec59d_00000</td><td style=\"text-align: right;\">0.64887 </td><td style=\"text-align: right;\">0.872146</td><td style=\"text-align: right;\"> 0.916747</td></tr>\n",
       "<tr><td>DeepChemTrainable_ec59d_00001</td><td style=\"text-align: right;\">0.671947</td><td style=\"text-align: right;\">0.899543</td><td style=\"text-align: right;\"> 0.913806</td></tr>\n",
       "</tbody>\n",
       "</table>\n",
       "</div>\n",
       "<style>\n",
       ".trialProgress {\n",
       "  display: flex;\n",
       "  flex-direction: column;\n",
       "  color: var(--jp-ui-font-color1);\n",
       "}\n",
       ".trialProgress h3 {\n",
       "  font-weight: bold;\n",
       "}\n",
       ".trialProgress td {\n",
       "  white-space: nowrap;\n",
       "}\n",
       "</style>\n"
      ],
      "text/plain": [
       "<IPython.core.display.HTML object>"
      ]
     },
     "metadata": {},
     "output_type": "display_data"
    },
    {
     "name": "stderr",
     "output_type": "stream",
     "text": [
      "2024-06-17 12:31:25,843\tINFO tune.py:1009 -- Wrote the latest version of all result files and experiment state to '/home/matcha/ray_results/DeepChemTrainable_2024-06-17_12-30-35' in 0.0018s.\n",
      "2024-06-17 12:31:25,847\tINFO tune.py:1041 -- Total run time: 50.63 seconds (50.61 seconds for the tuning loop).\n"
     ]
    }
   ],
   "source": [
    "from ray import tune\n",
    "from ray.tune.schedulers import ASHAScheduler\n",
    "import deepchem as dc\n",
    "\n",
    "\n",
    "class DeepChemTrainable(tune.Trainable):\n",
    "    def setup(self, config):\n",
    "        self.config = config\n",
    "        self.model = dc.models.GraphConvModel(n_tasks=1, mode='classification', \n",
    "                                              dropout=config['dropout'], \n",
    "                                              graph_conv_layers=config['graph_conv_layers'], \n",
    "                                              dense_layer_size=config['dense_layer_size'])\n",
    "        self.model.fit(dataset, nb_epoch=config['nb_epoch'])\n",
    "\n",
    "    def step(self):\n",
    "        result = self.model.evaluate(test_dataset, [dc.metrics.Metric(dc.metrics.roc_auc_score), \n",
    "                                                    dc.metrics.Metric(dc.metrics.matthews_corrcoef), \n",
    "                                                    dc.metrics.Metric(dc.metrics.recall_score) ])\n",
    "        return {\"roc_auc\": result['roc_auc_score'], \n",
    "                \"mcc\": result['matthews_corrcoef'], \n",
    "                \"recall\": result['recall_score']}\n",
    "\n",
    "search_space = {\n",
    "    \"nb_epoch\": tune.grid_search([50]),\n",
    "    \"graph_conv_layers\": tune.grid_search([[64, 64], [128, 128]]),\n",
    "    \"dense_layer_size\": tune.grid_search([128]),\n",
    "    \"dropout\": tune.grid_search([0.2])\n",
    "}\n",
    "\n",
    "analysis_rerun = tune.run(\n",
    "    DeepChemTrainable,\n",
    "    resources_per_trial={\"cpu\": 20, \"gpu\": 1},\n",
    "    config=search_space,\n",
    "    scheduler=ASHAScheduler(metric=\"roc_auc\", mode=\"max\"),\n",
    "    num_samples=1\n",
    ")\n"
   ]
  },
  {
   "cell_type": "code",
   "execution_count": 40,
   "metadata": {},
   "outputs": [
    {
     "data": {
      "text/html": [
       "<div>\n",
       "<style scoped>\n",
       "    .dataframe tbody tr th:only-of-type {\n",
       "        vertical-align: middle;\n",
       "    }\n",
       "\n",
       "    .dataframe tbody tr th {\n",
       "        vertical-align: top;\n",
       "    }\n",
       "\n",
       "    .dataframe thead th {\n",
       "        text-align: right;\n",
       "    }\n",
       "</style>\n",
       "<table border=\"1\" class=\"dataframe\">\n",
       "  <thead>\n",
       "    <tr style=\"text-align: right;\">\n",
       "      <th></th>\n",
       "      <th>roc_auc</th>\n",
       "      <th>mcc</th>\n",
       "      <th>recall</th>\n",
       "      <th>done</th>\n",
       "      <th>training_iteration</th>\n",
       "      <th>trial_id</th>\n",
       "      <th>date</th>\n",
       "      <th>timestamp</th>\n",
       "      <th>time_this_iter_s</th>\n",
       "      <th>time_total_s</th>\n",
       "      <th>pid</th>\n",
       "      <th>hostname</th>\n",
       "      <th>node_ip</th>\n",
       "      <th>time_since_restore</th>\n",
       "      <th>iterations_since_restore</th>\n",
       "      <th>config/nb_epoch</th>\n",
       "      <th>config/graph_conv_layers</th>\n",
       "      <th>config/dense_layer_size</th>\n",
       "      <th>config/dropout</th>\n",
       "      <th>logdir</th>\n",
       "    </tr>\n",
       "  </thead>\n",
       "  <tbody>\n",
       "    <tr>\n",
       "      <th>0</th>\n",
       "      <td>0.907887</td>\n",
       "      <td>0.623477</td>\n",
       "      <td>0.762557</td>\n",
       "      <td>True</td>\n",
       "      <td>100</td>\n",
       "      <td>67166_00000</td>\n",
       "      <td>2024-06-17_12-20-15</td>\n",
       "      <td>1718641215</td>\n",
       "      <td>0.039772</td>\n",
       "      <td>4.718146</td>\n",
       "      <td>209007</td>\n",
       "      <td>HPGD</td>\n",
       "      <td>172.27.21.110</td>\n",
       "      <td>4.718146</td>\n",
       "      <td>100</td>\n",
       "      <td>70</td>\n",
       "      <td>[32, 32]</td>\n",
       "      <td>128</td>\n",
       "      <td>0.0</td>\n",
       "      <td>67166_00000</td>\n",
       "    </tr>\n",
       "    <tr>\n",
       "      <th>1</th>\n",
       "      <td>0.902340</td>\n",
       "      <td>0.652433</td>\n",
       "      <td>0.799087</td>\n",
       "      <td>True</td>\n",
       "      <td>1</td>\n",
       "      <td>67166_00001</td>\n",
       "      <td>2024-06-17_12-20-52</td>\n",
       "      <td>1718641252</td>\n",
       "      <td>0.791312</td>\n",
       "      <td>0.791312</td>\n",
       "      <td>210209</td>\n",
       "      <td>HPGD</td>\n",
       "      <td>172.27.21.110</td>\n",
       "      <td>0.791312</td>\n",
       "      <td>1</td>\n",
       "      <td>70</td>\n",
       "      <td>[32, 32, 32]</td>\n",
       "      <td>128</td>\n",
       "      <td>0.0</td>\n",
       "      <td>67166_00001</td>\n",
       "    </tr>\n",
       "    <tr>\n",
       "      <th>2</th>\n",
       "      <td>0.902659</td>\n",
       "      <td>0.621439</td>\n",
       "      <td>0.794521</td>\n",
       "      <td>True</td>\n",
       "      <td>1</td>\n",
       "      <td>67166_00002</td>\n",
       "      <td>2024-06-17_12-21-27</td>\n",
       "      <td>1718641287</td>\n",
       "      <td>0.499276</td>\n",
       "      <td>0.499276</td>\n",
       "      <td>211040</td>\n",
       "      <td>HPGD</td>\n",
       "      <td>172.27.21.110</td>\n",
       "      <td>0.499276</td>\n",
       "      <td>1</td>\n",
       "      <td>90</td>\n",
       "      <td>[32, 32]</td>\n",
       "      <td>128</td>\n",
       "      <td>0.0</td>\n",
       "      <td>67166_00002</td>\n",
       "    </tr>\n",
       "    <tr>\n",
       "      <th>3</th>\n",
       "      <td>0.901027</td>\n",
       "      <td>0.645636</td>\n",
       "      <td>0.799087</td>\n",
       "      <td>True</td>\n",
       "      <td>1</td>\n",
       "      <td>67166_00003</td>\n",
       "      <td>2024-06-17_12-22-14</td>\n",
       "      <td>1718641334</td>\n",
       "      <td>0.793676</td>\n",
       "      <td>0.793676</td>\n",
       "      <td>211927</td>\n",
       "      <td>HPGD</td>\n",
       "      <td>172.27.21.110</td>\n",
       "      <td>0.793676</td>\n",
       "      <td>1</td>\n",
       "      <td>90</td>\n",
       "      <td>[32, 32, 32]</td>\n",
       "      <td>128</td>\n",
       "      <td>0.0</td>\n",
       "      <td>67166_00003</td>\n",
       "    </tr>\n",
       "    <tr>\n",
       "      <th>4</th>\n",
       "      <td>0.877488</td>\n",
       "      <td>0.624949</td>\n",
       "      <td>0.840183</td>\n",
       "      <td>True</td>\n",
       "      <td>1</td>\n",
       "      <td>67166_00004</td>\n",
       "      <td>2024-06-17_12-22-54</td>\n",
       "      <td>1718641374</td>\n",
       "      <td>0.640228</td>\n",
       "      <td>0.640228</td>\n",
       "      <td>212927</td>\n",
       "      <td>HPGD</td>\n",
       "      <td>172.27.21.110</td>\n",
       "      <td>0.640228</td>\n",
       "      <td>1</td>\n",
       "      <td>100</td>\n",
       "      <td>[32, 32]</td>\n",
       "      <td>128</td>\n",
       "      <td>0.0</td>\n",
       "      <td>67166_00004</td>\n",
       "    </tr>\n",
       "    <tr>\n",
       "      <th>5</th>\n",
       "      <td>0.907165</td>\n",
       "      <td>0.666776</td>\n",
       "      <td>0.803653</td>\n",
       "      <td>True</td>\n",
       "      <td>4</td>\n",
       "      <td>67166_00005</td>\n",
       "      <td>2024-06-17_12-23-44</td>\n",
       "      <td>1718641424</td>\n",
       "      <td>0.049588</td>\n",
       "      <td>0.844438</td>\n",
       "      <td>213890</td>\n",
       "      <td>HPGD</td>\n",
       "      <td>172.27.21.110</td>\n",
       "      <td>0.844438</td>\n",
       "      <td>4</td>\n",
       "      <td>100</td>\n",
       "      <td>[32, 32, 32]</td>\n",
       "      <td>128</td>\n",
       "      <td>0.0</td>\n",
       "      <td>67166_00005</td>\n",
       "    </tr>\n",
       "  </tbody>\n",
       "</table>\n",
       "</div>"
      ],
      "text/plain": [
       "    roc_auc       mcc    recall  done  training_iteration     trial_id  \\\n",
       "0  0.907887  0.623477  0.762557  True                 100  67166_00000   \n",
       "1  0.902340  0.652433  0.799087  True                   1  67166_00001   \n",
       "2  0.902659  0.621439  0.794521  True                   1  67166_00002   \n",
       "3  0.901027  0.645636  0.799087  True                   1  67166_00003   \n",
       "4  0.877488  0.624949  0.840183  True                   1  67166_00004   \n",
       "5  0.907165  0.666776  0.803653  True                   4  67166_00005   \n",
       "\n",
       "                  date   timestamp  time_this_iter_s  time_total_s     pid  \\\n",
       "0  2024-06-17_12-20-15  1718641215          0.039772      4.718146  209007   \n",
       "1  2024-06-17_12-20-52  1718641252          0.791312      0.791312  210209   \n",
       "2  2024-06-17_12-21-27  1718641287          0.499276      0.499276  211040   \n",
       "3  2024-06-17_12-22-14  1718641334          0.793676      0.793676  211927   \n",
       "4  2024-06-17_12-22-54  1718641374          0.640228      0.640228  212927   \n",
       "5  2024-06-17_12-23-44  1718641424          0.049588      0.844438  213890   \n",
       "\n",
       "  hostname        node_ip  time_since_restore  iterations_since_restore  \\\n",
       "0     HPGD  172.27.21.110            4.718146                       100   \n",
       "1     HPGD  172.27.21.110            0.791312                         1   \n",
       "2     HPGD  172.27.21.110            0.499276                         1   \n",
       "3     HPGD  172.27.21.110            0.793676                         1   \n",
       "4     HPGD  172.27.21.110            0.640228                         1   \n",
       "5     HPGD  172.27.21.110            0.844438                         4   \n",
       "\n",
       "   config/nb_epoch config/graph_conv_layers  config/dense_layer_size  \\\n",
       "0               70                 [32, 32]                      128   \n",
       "1               70             [32, 32, 32]                      128   \n",
       "2               90                 [32, 32]                      128   \n",
       "3               90             [32, 32, 32]                      128   \n",
       "4              100                 [32, 32]                      128   \n",
       "5              100             [32, 32, 32]                      128   \n",
       "\n",
       "   config/dropout       logdir  \n",
       "0             0.0  67166_00000  \n",
       "1             0.0  67166_00001  \n",
       "2             0.0  67166_00002  \n",
       "3             0.0  67166_00003  \n",
       "4             0.0  67166_00004  \n",
       "5             0.0  67166_00005  "
      ]
     },
     "execution_count": 40,
     "metadata": {},
     "output_type": "execute_result"
    }
   ],
   "source": [
    "analysis_rerun.dataframe()"
   ]
  },
  {
   "cell_type": "code",
   "execution_count": null,
   "metadata": {},
   "outputs": [],
   "source": []
  }
 ],
 "metadata": {
  "kernelspec": {
   "display_name": "venv",
   "language": "python",
   "name": "python3"
  },
  "language_info": {
   "codemirror_mode": {
    "name": "ipython",
    "version": 3
   },
   "file_extension": ".py",
   "mimetype": "text/x-python",
   "name": "python",
   "nbconvert_exporter": "python",
   "pygments_lexer": "ipython3",
   "version": "3.10.14"
  }
 },
 "nbformat": 4,
 "nbformat_minor": 2
}
